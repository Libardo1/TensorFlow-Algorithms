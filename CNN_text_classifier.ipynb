{
 "cells": [
  {
   "cell_type": "markdown",
   "metadata": {},
   "source": [
    "# CNN for Text Classification"
   ]
  },
  {
   "cell_type": "code",
   "execution_count": 1,
   "metadata": {
    "collapsed": true
   },
   "outputs": [],
   "source": [
    "import tensorflow as tf\n",
    "import numpy as np\n",
    "from __future__ import absolute_import\n",
    "from __future__ import division\n",
    "from __future__ import print_function"
   ]
  },
  {
   "cell_type": "code",
   "execution_count": 3,
   "metadata": {
    "collapsed": false
   },
   "outputs": [
    {
     "ename": "SyntaxError",
     "evalue": "invalid syntax (<ipython-input-3-c32d9fb3d3f7>, line 3)",
     "output_type": "error",
     "traceback": [
      "\u001b[0;36m  File \u001b[0;32m\"<ipython-input-3-c32d9fb3d3f7>\"\u001b[0;36m, line \u001b[0;32m3\u001b[0m\n\u001b[0;31m    VOCAB_SIZE =\u001b[0m\n\u001b[0m                 ^\u001b[0m\n\u001b[0;31mSyntaxError\u001b[0m\u001b[0;31m:\u001b[0m invalid syntax\n"
     ]
    }
   ],
   "source": [
    "# The MNIST dataset has 10 classes, representing the digits 0 through 9.\n",
    "NUM_CLASSES = 10\n",
    "VOCAB_SIZE = \n"
   ]
  },
  {
   "cell_type": "code",
   "execution_count": 4,
   "metadata": {
    "collapsed": true
   },
   "outputs": [],
   "source": [
    "# Basic model parameters as external flags.\n",
    "flags = tf.app.flags\n",
    "FLAGS = flags.FLAGS\n",
    "flags.DEFINE_float('learning_rate', 0.001, 'Initial learning rate.')\n",
    "flags.DEFINE_float('momentum', 0.8, 'momentum hyperparameters')\n",
    "flags.DEFINE_integer('max_steps', 1000, 'Number of steps to run trainer.')\n",
    "flags.DEFINE_integer('batch_size', 128, 'Batch size.  '\n",
    "                     'Must divide evenly into the dataset sizes.')\n",
    "flags.DEFINE_string('train_dir', 'data', 'Directory to put the training data.')\n",
    "flags.DEFINE_string('log_dir', 'logs_txt', 'Directory to put the log data.')\n",
    "flags.DEFINE_float('dropout', 0.5, 'dropout ratio')\n",
    "flags.DEFINE_float('L2', 0.01, 'Ridge Regularization')\n",
    "flags.DEFINE_float('L1', 0.01, 'LASSO Regularization')\n",
    "flags.DEFINE_integer('embedding_size', 10, 'Size of embedding vector')\n",
    "flags.DEFINE_integer('filter_size', 10, 'Size of embedding vector')\n",
    "flags.DEFINE_integer('num_filters', 4, 'Number of feature maps')"
   ]
  },
  {
   "cell_type": "code",
   "execution_count": 5,
   "metadata": {
    "collapsed": false
   },
   "outputs": [
    {
     "ename": "SyntaxError",
     "evalue": "invalid syntax (<ipython-input-5-a934cef8c033>, line 1)",
     "output_type": "error",
     "traceback": [
      "\u001b[0;36m  File \u001b[0;32m\"<ipython-input-5-a934cef8c033>\"\u001b[0;36m, line \u001b[0;32m1\u001b[0m\n\u001b[0;31m    def placeholder_inputs(batch_size?, seq_size, num_classes):\u001b[0m\n\u001b[0m                                     ^\u001b[0m\n\u001b[0;31mSyntaxError\u001b[0m\u001b[0;31m:\u001b[0m invalid syntax\n"
     ]
    }
   ],
   "source": [
    "def placeholder_inputs(batch_size?, seq_size, num_classes):\n",
    "    \"\"\"Generate placeholder variables to represent the input tensors.\n",
    "    \n",
    "    Args:\n",
    "    batch_size: The batch size.?\n",
    "    seq_size: The sequence size.\n",
    "    num_classes: The Number of classes\n",
    "    \n",
    "    Returns:\n",
    "    input_x: text sequence placeholder.\n",
    "    target_y: Labels placeholder.\n",
    "    \"\"\"\n",
    "    input_x = tf.placeholder(tf.float32, [None, seq_size], name=\"input_x\")\n",
    "    target_y = tf.placeholder(tf.float32, [None, num_classes], name=\"target_y\") # 1-hot-encoded?\n",
    "\n",
    "    return input_x, num_classes"
   ]
  },
  {
   "cell_type": "code",
   "execution_count": 2,
   "metadata": {
    "collapsed": true
   },
   "outputs": [],
   "source": [
    "def _inference(input_X, vocab_size, embedding_size, num_filters):\n",
    "    \n",
    "        \n",
    "    def weight_variable(shape, name):\n",
    "        initial = tf.truncated_normal(shape, stddev=1.0 / math.sqrt(float(shape[0])))\n",
    "        # initial = tf.truncated_normal(shape, stddev=0.1)\n",
    "        return tf.Variable(initial, name=name)\n",
    "\n",
    "    def bias_variable(shape, name):\n",
    "        #initial = tf.zeros(shape)\n",
    "        initial = tf.constant(0.1, shape=shape) # prevent dead neural on initialization\n",
    "        return tf.Variable(initial, name=name)\n",
    "    \n",
    "    def conv2d(x, W):\n",
    "        return tf.nn.conv2d(x, W, strides=[1, 1, 1, 1], padding='VALID') # maintain layer size\n",
    "\n",
    "    def max_pool(x, seq_size, filter_size):\n",
    "        return tf.nn.max_pool(x, ksize=[1, sequence_length - filter_size + 1, 1, 1],\n",
    "                              strides=[1, 1, 1, 1], padding='VALID')\n",
    "    \n",
    "    # Embedding layer\n",
    "    with tf.name_scope('embedding'):\n",
    "        initial = tf.random_uniform([vocab_size, embedding_size], -1.0, 1.0)\n",
    "        W = tf.Variable(initial, name=\"W\")\n",
    "        # perform parallel lookups of embedding\n",
    "        embedded_chars = tf.nn.embedding_lookup(W, input_X)\n",
    "        # Add one dimension\n",
    "        embedded_chars_expan = tf.expand_dims(embedded_chars, dim=-1)\n",
    "    \n",
    "    pooled_outputs = []\n",
    "    for i, filter_size in enumerate(filter_size_list):\n",
    "        \n",
    "        with tf.name_scope(\"conv-maxpool-%s\" % filter_size):\n",
    "            \n",
    "            filter_shape = [filter_size, embedding_size, 1, num_filters]\n",
    "            W = weight_variable(filter_shape, \"W\")\n",
    "            b = bias_variable([num_filters], \"b\")\n",
    "            conv = conv2d(embedded_chars_expan, W)\n",
    "            h = tf.nn.relu6(tf.nn.bias_add(conv, b), name=\"relu6\")\n",
    "            pool_out = max_pool(x, seq_size, filter_size)\n",
    "            pool_outputs.append(pool_out)\n",
    "    \n",
    "    # Combining pooled features\n",
    "    num_filter_total = num_filters * len(filter_sizes)\n",
    "    h_pool = tf.concat(3, pool_outputs)\n",
    "    h_pool_flat = tf.reshape(h_pool, [-1, num_filters_total])\n",
    "    \n",
    "    # Dropout layer\n",
    "    with tf.name_scope(\"dropout\"):\n",
    "        h_drop = tf.nn.dropout(h_pool_flat, FLAGS.dropout)\n",
    "        \n",
    "    with tf.name_scope(\"output\"):\n",
    "        W = tf.get_variable(\"W\",\n",
    "                            shape = [num_filters_total, num_classes],\n",
    "                            initializer = tf.contrib.layers.xavier_initializer())\n",
    "        b = bias_variable([num_classes], \"b\")\n",
    "        l2_loss += tf.nn.l2_loss(W) + tf.nn.l2_loss(b)\n",
    "        scores = tf.nn.xw_plus_b(h_drop, W, b, name = \"scores\")\n",
    "        predictions = tf.argmax(score, 1, name = \"predictions\")\n",
    "        \n",
    "    #mean cross-entropy loss\n",
    "    with tf.name_scope(\"loss\"):\n",
    "        xentropy = tf.nn.softmax_cross_entropy_with_logits(scores, target_y, name = \"cross-entropy\")\n",
    "        loss = tf.reduce_mean(losses) + l2_reg_lambda * l2_loss\n",
    "    \n",
    "    # Accuracy\n",
    "    with tf.name_scope(\"accuracy\"):\n",
    "        correct_pred = tf.equal(predictions, tf.argmax(target_y, 1))\n",
    "        accuracy = tf.reduce_mean(tf.cast(correct_pred, \"float\"), name = \"accuracy\")\n",
    "    "
   ]
  },
  {
   "cell_type": "code",
   "execution_count": null,
   "metadata": {
    "collapsed": true
   },
   "outputs": [],
   "source": [
    "\n",
    "class TextCNN(object):\n",
    "    \"\"\"\n",
    "    A CNN for text classification.\n",
    "    Uses an embedding layer, followed by a convolutional, max-pooling and softmax layer.\n",
    "    \"\"\"\n",
    "    def __init__(\n",
    "      self, sequence_length, num_classes, vocab_size,\n",
    "      embedding_size, filter_sizes, num_filters, l2_reg_lambda=0.0):\n",
    "\n"
   ]
  }
 ],
 "metadata": {
  "kernelspec": {
   "display_name": "Python 2",
   "language": "python",
   "name": "python2"
  },
  "language_info": {
   "codemirror_mode": {
    "name": "ipython",
    "version": 2
   },
   "file_extension": ".py",
   "mimetype": "text/x-python",
   "name": "python",
   "nbconvert_exporter": "python",
   "pygments_lexer": "ipython2",
   "version": "2.7.11"
  }
 },
 "nbformat": 4,
 "nbformat_minor": 0
}
