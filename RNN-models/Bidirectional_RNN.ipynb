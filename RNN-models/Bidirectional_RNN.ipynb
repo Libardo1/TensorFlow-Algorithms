{
 "cells": [
  {
   "cell_type": "code",
   "execution_count": 4,
   "metadata": {
    "collapsed": false
   },
   "outputs": [],
   "source": [
    "# Import MINST data\n",
    "from tensorflow.examples.tutorials.mnist import input_data"
   ]
  },
  {
   "cell_type": "code",
   "execution_count": 5,
   "metadata": {
    "collapsed": false
   },
   "outputs": [
    {
     "name": "stdout",
     "output_type": "stream",
     "text": [
      "Extracting /Users/marvinbertin/Github/TensorFlow/TensorFlow-Algorithms/ConvNet-Models/data/train-images-idx3-ubyte.gz\n",
      "Extracting /Users/marvinbertin/Github/TensorFlow/TensorFlow-Algorithms/ConvNet-Models/data/train-labels-idx1-ubyte.gz\n",
      "Extracting /Users/marvinbertin/Github/TensorFlow/TensorFlow-Algorithms/ConvNet-Models/data/t10k-images-idx3-ubyte.gz\n",
      "Extracting /Users/marvinbertin/Github/TensorFlow/TensorFlow-Algorithms/ConvNet-Models/data/t10k-labels-idx1-ubyte.gz\n"
     ]
    }
   ],
   "source": [
    "mnist = input_data.read_data_sets(\"/Users/marvinbertin/Github/TensorFlow/TensorFlow-Algorithms/ConvNet-Models/data/\", one_hot=True)"
   ]
  },
  {
   "cell_type": "code",
   "execution_count": 6,
   "metadata": {
    "collapsed": true
   },
   "outputs": [],
   "source": [
    "import tensorflow as tf\n",
    "from tensorflow.python.ops.constant_op import constant\n",
    "from tensorflow.models.rnn import rnn, rnn_cell\n",
    "import numpy as np\n"
   ]
  },
  {
   "cell_type": "code",
   "execution_count": 7,
   "metadata": {
    "collapsed": true
   },
   "outputs": [],
   "source": [
    "'''\n",
    "To classify images using a bidirectional reccurent neural network, we consider every image row as a sequence of pixels.\n",
    "Because MNIST image shape is 28*28px, we will then handle 28 sequences of 28 steps for every sample.\n",
    "'''\n",
    "\n",
    "# Parameters\n",
    "learning_rate = 0.001\n",
    "training_iters = 100000\n",
    "batch_size = 128\n",
    "display_step = 10\n",
    "\n",
    "# Network Parameters\n",
    "n_input = 28 # MNIST data input (img shape: 28*28)\n",
    "n_steps = 28 # timesteps\n",
    "n_hidden = 128 # hidden layer num of features\n",
    "n_classes = 10 # MNIST total classes (0-9 digits)"
   ]
  },
  {
   "cell_type": "code",
   "execution_count": 8,
   "metadata": {
    "collapsed": false
   },
   "outputs": [],
   "source": [
    "# tf Graph input\n",
    "x = tf.placeholder(\"float\", [None, n_steps, n_input])\n",
    "# Tensorflow LSTM cell requires 2x n_hidden length (state & cell)\n",
    "istate_fw = tf.placeholder(\"float\", [None, 2*n_hidden])\n",
    "istate_bw = tf.placeholder(\"float\", [None, 2*n_hidden])\n",
    "y = tf.placeholder(\"float\", [None, n_classes])\n",
    "\n",
    "# Define weights\n",
    "weights = {\n",
    "    # Hidden layer weights => 2*n_hidden because of foward + backward cells\n",
    "    'hidden': tf.Variable(tf.random_normal([n_input, 2*n_hidden])),\n",
    "    'out': tf.Variable(tf.random_normal([2*n_hidden, n_classes]))\n",
    "}\n",
    "biases = {\n",
    "    'hidden': tf.Variable(tf.random_normal([2*n_hidden])),\n",
    "    'out': tf.Variable(tf.random_normal([n_classes]))\n",
    "}"
   ]
  },
  {
   "cell_type": "code",
   "execution_count": 9,
   "metadata": {
    "collapsed": true
   },
   "outputs": [],
   "source": [
    "def BiRNN(_X, _istate_fw, _istate_bw, _weights, _biases, _batch_size, _seq_len):\n",
    "\n",
    "    # BiRNN requires to supply sequence_length as [batch_size, int64]\n",
    "    # Note: Tensorflow 0.6.0 requires BiRNN sequence_length parameter to be set\n",
    "    # For a better implementation with latest version of tensorflow, check below\n",
    "    _seq_len = tf.fill([_batch_size], constant(_seq_len, dtype=tf.int64))\n",
    "\n",
    "    # input shape: (batch_size, n_steps, n_input)\n",
    "    _X = tf.transpose(_X, [1, 0, 2])  # permute n_steps and batch_size\n",
    "    # Reshape to prepare input to hidden activation\n",
    "    _X = tf.reshape(_X, [-1, n_input]) # (n_steps*batch_size, n_input)\n",
    "    # Linear activation\n",
    "    _X = tf.matmul(_X, _weights['hidden']) + _biases['hidden']\n",
    "\n",
    "    # Define lstm cells with tensorflow\n",
    "    # Forward direction cell\n",
    "    lstm_fw_cell = rnn_cell.BasicLSTMCell(n_hidden, forget_bias=1.0)\n",
    "    # Backward direction cell\n",
    "    lstm_bw_cell = rnn_cell.BasicLSTMCell(n_hidden, forget_bias=1.0)\n",
    "    # Split data because rnn cell needs a list of inputs for the RNN inner loop\n",
    "    _X = tf.split(0, n_steps, _X) # n_steps * (batch_size, n_hidden)\n",
    "\n",
    "    # Get lstm cell output\n",
    "    outputs = rnn.bidirectional_rnn(lstm_fw_cell, lstm_bw_cell, _X,\n",
    "                                            initial_state_fw=_istate_fw,\n",
    "                                            initial_state_bw=_istate_bw,\n",
    "                                            sequence_length=_seq_len)\n",
    "\n",
    "    # Linear activation\n",
    "    # Get inner loop last output\n",
    "    return tf.matmul(outputs[-1], _weights['out']) + _biases['out']"
   ]
  },
  {
   "cell_type": "code",
   "execution_count": 10,
   "metadata": {
    "collapsed": false
   },
   "outputs": [
    {
     "name": "stdout",
     "output_type": "stream",
     "text": [
      "Iter 1280, Minibatch Loss= 12.768471, Training Accuracy= 0.04688\n",
      "Iter 2560, Minibatch Loss= 6.522937, Training Accuracy= 0.25000\n",
      "Iter 3840, Minibatch Loss= 4.757868, Training Accuracy= 0.28125\n",
      "Iter 5120, Minibatch Loss= 3.410506, Training Accuracy= 0.33594\n",
      "Iter 6400, Minibatch Loss= 2.746634, Training Accuracy= 0.45312\n",
      "Iter 7680, Minibatch Loss= 2.465135, Training Accuracy= 0.41406\n",
      "Iter 8960, Minibatch Loss= 2.324113, Training Accuracy= 0.39844\n",
      "Iter 10240, Minibatch Loss= 2.175327, Training Accuracy= 0.41406\n",
      "Iter 11520, Minibatch Loss= 1.093070, Training Accuracy= 0.66406\n",
      "Iter 12800, Minibatch Loss= 2.394391, Training Accuracy= 0.36719\n",
      "Iter 14080, Minibatch Loss= 1.637967, Training Accuracy= 0.50781\n",
      "Iter 15360, Minibatch Loss= 1.509104, Training Accuracy= 0.56250\n",
      "Iter 16640, Minibatch Loss= 1.303555, Training Accuracy= 0.60156\n",
      "Iter 17920, Minibatch Loss= 1.016380, Training Accuracy= 0.64062\n",
      "Iter 19200, Minibatch Loss= 0.921850, Training Accuracy= 0.67969\n",
      "Iter 20480, Minibatch Loss= 0.836591, Training Accuracy= 0.71875\n",
      "Iter 21760, Minibatch Loss= 1.079145, Training Accuracy= 0.70312\n",
      "Iter 23040, Minibatch Loss= 0.722481, Training Accuracy= 0.69531\n",
      "Iter 24320, Minibatch Loss= 1.139125, Training Accuracy= 0.64844\n",
      "Iter 25600, Minibatch Loss= 1.170052, Training Accuracy= 0.61719\n",
      "Iter 26880, Minibatch Loss= 0.957333, Training Accuracy= 0.70312\n",
      "Iter 28160, Minibatch Loss= 0.817302, Training Accuracy= 0.74219\n",
      "Iter 29440, Minibatch Loss= 1.052182, Training Accuracy= 0.69531\n",
      "Iter 30720, Minibatch Loss= 0.692158, Training Accuracy= 0.76562\n",
      "Iter 32000, Minibatch Loss= 0.772972, Training Accuracy= 0.75000\n",
      "Iter 33280, Minibatch Loss= 0.717039, Training Accuracy= 0.76562\n",
      "Iter 34560, Minibatch Loss= 0.711103, Training Accuracy= 0.74219\n",
      "Iter 35840, Minibatch Loss= 0.532614, Training Accuracy= 0.80469\n",
      "Iter 37120, Minibatch Loss= 0.913198, Training Accuracy= 0.71094\n",
      "Iter 38400, Minibatch Loss= 0.525737, Training Accuracy= 0.82812\n",
      "Iter 39680, Minibatch Loss= 0.822889, Training Accuracy= 0.78125\n",
      "Iter 40960, Minibatch Loss= 0.897778, Training Accuracy= 0.71875\n",
      "Iter 42240, Minibatch Loss= 0.579014, Training Accuracy= 0.81250\n",
      "Iter 43520, Minibatch Loss= 0.516045, Training Accuracy= 0.80469\n",
      "Iter 44800, Minibatch Loss= 0.744435, Training Accuracy= 0.75000\n",
      "Iter 46080, Minibatch Loss= 0.601370, Training Accuracy= 0.79688\n",
      "Iter 47360, Minibatch Loss= 0.544554, Training Accuracy= 0.82031\n",
      "Iter 48640, Minibatch Loss= 0.608124, Training Accuracy= 0.79688\n",
      "Iter 49920, Minibatch Loss= 0.636237, Training Accuracy= 0.81250\n",
      "Iter 51200, Minibatch Loss= 0.593463, Training Accuracy= 0.79688\n",
      "Iter 52480, Minibatch Loss= 0.662088, Training Accuracy= 0.76562\n",
      "Iter 53760, Minibatch Loss= 0.601880, Training Accuracy= 0.76562\n",
      "Iter 55040, Minibatch Loss= 0.788556, Training Accuracy= 0.75000\n",
      "Iter 56320, Minibatch Loss= 0.540744, Training Accuracy= 0.80469\n",
      "Iter 57600, Minibatch Loss= 0.541076, Training Accuracy= 0.78125\n",
      "Iter 58880, Minibatch Loss= 0.689081, Training Accuracy= 0.78906\n",
      "Iter 60160, Minibatch Loss= 0.684431, Training Accuracy= 0.77344\n",
      "Iter 61440, Minibatch Loss= 0.470316, Training Accuracy= 0.84375\n",
      "Iter 62720, Minibatch Loss= 0.455577, Training Accuracy= 0.86719\n"
     ]
    },
    {
     "ename": "KeyboardInterrupt",
     "evalue": "",
     "output_type": "error",
     "traceback": [
      "\u001b[0;31m---------------------------------------------------------------------------\u001b[0m",
      "\u001b[0;31mKeyboardInterrupt\u001b[0m                         Traceback (most recent call last)",
      "\u001b[0;32m<ipython-input-10-2fefe5421f3a>\u001b[0m in \u001b[0;36m<module>\u001b[0;34m()\u001b[0m\n\u001b[1;32m     25\u001b[0m         sess.run(optimizer, feed_dict={x: batch_xs, y: batch_ys,\n\u001b[1;32m     26\u001b[0m                                        \u001b[0mistate_fw\u001b[0m\u001b[0;34m:\u001b[0m \u001b[0mnp\u001b[0m\u001b[0;34m.\u001b[0m\u001b[0mzeros\u001b[0m\u001b[0;34m(\u001b[0m\u001b[0;34m(\u001b[0m\u001b[0mbatch_size\u001b[0m\u001b[0;34m,\u001b[0m \u001b[0;36m2\u001b[0m\u001b[0;34m*\u001b[0m\u001b[0mn_hidden\u001b[0m\u001b[0;34m)\u001b[0m\u001b[0;34m)\u001b[0m\u001b[0;34m,\u001b[0m\u001b[0;34m\u001b[0m\u001b[0m\n\u001b[0;32m---> 27\u001b[0;31m                                        istate_bw: np.zeros((batch_size, 2*n_hidden))})\n\u001b[0m\u001b[1;32m     28\u001b[0m         \u001b[0;32mif\u001b[0m \u001b[0mstep\u001b[0m \u001b[0;34m%\u001b[0m \u001b[0mdisplay_step\u001b[0m \u001b[0;34m==\u001b[0m \u001b[0;36m0\u001b[0m\u001b[0;34m:\u001b[0m\u001b[0;34m\u001b[0m\u001b[0m\n\u001b[1;32m     29\u001b[0m             \u001b[0;31m# Calculate batch accuracy\u001b[0m\u001b[0;34m\u001b[0m\u001b[0;34m\u001b[0m\u001b[0m\n",
      "\u001b[0;32m/Users/marvinbertin/anaconda/envs/TensorFlow-env/lib/python2.7/site-packages/tensorflow/python/client/session.pyc\u001b[0m in \u001b[0;36mrun\u001b[0;34m(self, fetches, feed_dict, options, run_metadata)\u001b[0m\n\u001b[1;32m    338\u001b[0m     \u001b[0;32mtry\u001b[0m\u001b[0;34m:\u001b[0m\u001b[0;34m\u001b[0m\u001b[0m\n\u001b[1;32m    339\u001b[0m       result = self._run(None, fetches, feed_dict, options_ptr,\n\u001b[0;32m--> 340\u001b[0;31m                          run_metadata_ptr)\n\u001b[0m\u001b[1;32m    341\u001b[0m       \u001b[0;32mif\u001b[0m \u001b[0mrun_metadata\u001b[0m\u001b[0;34m:\u001b[0m\u001b[0;34m\u001b[0m\u001b[0m\n\u001b[1;32m    342\u001b[0m         \u001b[0mproto_data\u001b[0m \u001b[0;34m=\u001b[0m \u001b[0mtf_session\u001b[0m\u001b[0;34m.\u001b[0m\u001b[0mTF_GetBuffer\u001b[0m\u001b[0;34m(\u001b[0m\u001b[0mrun_metadata_ptr\u001b[0m\u001b[0;34m)\u001b[0m\u001b[0;34m\u001b[0m\u001b[0m\n",
      "\u001b[0;32m/Users/marvinbertin/anaconda/envs/TensorFlow-env/lib/python2.7/site-packages/tensorflow/python/client/session.pyc\u001b[0m in \u001b[0;36m_run\u001b[0;34m(self, handle, fetches, feed_dict, options, run_metadata)\u001b[0m\n\u001b[1;32m    562\u001b[0m     \u001b[0;32mtry\u001b[0m\u001b[0;34m:\u001b[0m\u001b[0;34m\u001b[0m\u001b[0m\n\u001b[1;32m    563\u001b[0m       results = self._do_run(handle, target_list, unique_fetches,\n\u001b[0;32m--> 564\u001b[0;31m                              feed_dict_string, options, run_metadata)\n\u001b[0m\u001b[1;32m    565\u001b[0m     \u001b[0;32mfinally\u001b[0m\u001b[0;34m:\u001b[0m\u001b[0;34m\u001b[0m\u001b[0m\n\u001b[1;32m    566\u001b[0m       \u001b[0;31m# The movers are no longer used. Delete them.\u001b[0m\u001b[0;34m\u001b[0m\u001b[0;34m\u001b[0m\u001b[0m\n",
      "\u001b[0;32m/Users/marvinbertin/anaconda/envs/TensorFlow-env/lib/python2.7/site-packages/tensorflow/python/client/session.pyc\u001b[0m in \u001b[0;36m_do_run\u001b[0;34m(self, handle, target_list, fetch_list, feed_dict, options, run_metadata)\u001b[0m\n\u001b[1;32m    635\u001b[0m     \u001b[0;32mif\u001b[0m \u001b[0mhandle\u001b[0m \u001b[0;32mis\u001b[0m \u001b[0mNone\u001b[0m\u001b[0;34m:\u001b[0m\u001b[0;34m\u001b[0m\u001b[0m\n\u001b[1;32m    636\u001b[0m       return self._do_call(_run_fn, self._session, feed_dict, fetch_list,\n\u001b[0;32m--> 637\u001b[0;31m                            target_list, options, run_metadata)\n\u001b[0m\u001b[1;32m    638\u001b[0m     \u001b[0;32melse\u001b[0m\u001b[0;34m:\u001b[0m\u001b[0;34m\u001b[0m\u001b[0m\n\u001b[1;32m    639\u001b[0m       return self._do_call(_prun_fn, self._session, handle, feed_dict,\n",
      "\u001b[0;32m/Users/marvinbertin/anaconda/envs/TensorFlow-env/lib/python2.7/site-packages/tensorflow/python/client/session.pyc\u001b[0m in \u001b[0;36m_do_call\u001b[0;34m(self, fn, *args)\u001b[0m\n\u001b[1;32m    642\u001b[0m   \u001b[0;32mdef\u001b[0m \u001b[0m_do_call\u001b[0m\u001b[0;34m(\u001b[0m\u001b[0mself\u001b[0m\u001b[0;34m,\u001b[0m \u001b[0mfn\u001b[0m\u001b[0;34m,\u001b[0m \u001b[0;34m*\u001b[0m\u001b[0margs\u001b[0m\u001b[0;34m)\u001b[0m\u001b[0;34m:\u001b[0m\u001b[0;34m\u001b[0m\u001b[0m\n\u001b[1;32m    643\u001b[0m     \u001b[0;32mtry\u001b[0m\u001b[0;34m:\u001b[0m\u001b[0;34m\u001b[0m\u001b[0m\n\u001b[0;32m--> 644\u001b[0;31m       \u001b[0;32mreturn\u001b[0m \u001b[0mfn\u001b[0m\u001b[0;34m(\u001b[0m\u001b[0;34m*\u001b[0m\u001b[0margs\u001b[0m\u001b[0;34m)\u001b[0m\u001b[0;34m\u001b[0m\u001b[0m\n\u001b[0m\u001b[1;32m    645\u001b[0m     \u001b[0;32mexcept\u001b[0m \u001b[0mtf_session\u001b[0m\u001b[0;34m.\u001b[0m\u001b[0mStatusNotOK\u001b[0m \u001b[0;32mas\u001b[0m \u001b[0me\u001b[0m\u001b[0;34m:\u001b[0m\u001b[0;34m\u001b[0m\u001b[0m\n\u001b[1;32m    646\u001b[0m       \u001b[0merror_message\u001b[0m \u001b[0;34m=\u001b[0m \u001b[0mcompat\u001b[0m\u001b[0;34m.\u001b[0m\u001b[0mas_text\u001b[0m\u001b[0;34m(\u001b[0m\u001b[0me\u001b[0m\u001b[0;34m.\u001b[0m\u001b[0merror_message\u001b[0m\u001b[0;34m)\u001b[0m\u001b[0;34m\u001b[0m\u001b[0m\n",
      "\u001b[0;32m/Users/marvinbertin/anaconda/envs/TensorFlow-env/lib/python2.7/site-packages/tensorflow/python/client/session.pyc\u001b[0m in \u001b[0;36m_run_fn\u001b[0;34m(session, feed_dict, fetch_list, target_list, options, run_metadata)\u001b[0m\n\u001b[1;32m    626\u001b[0m       \u001b[0;32melse\u001b[0m\u001b[0;34m:\u001b[0m\u001b[0;34m\u001b[0m\u001b[0m\n\u001b[1;32m    627\u001b[0m         return tf_session.TF_Run(\n\u001b[0;32m--> 628\u001b[0;31m             session, None, feed_dict, fetch_list, target_list, None)\n\u001b[0m\u001b[1;32m    629\u001b[0m \u001b[0;34m\u001b[0m\u001b[0m\n\u001b[1;32m    630\u001b[0m     \u001b[0;32mdef\u001b[0m \u001b[0m_prun_fn\u001b[0m\u001b[0;34m(\u001b[0m\u001b[0msession\u001b[0m\u001b[0;34m,\u001b[0m \u001b[0mhandle\u001b[0m\u001b[0;34m,\u001b[0m \u001b[0mfeed_dict\u001b[0m\u001b[0;34m,\u001b[0m \u001b[0mfetch_list\u001b[0m\u001b[0;34m)\u001b[0m\u001b[0;34m:\u001b[0m\u001b[0;34m\u001b[0m\u001b[0m\n",
      "\u001b[0;31mKeyboardInterrupt\u001b[0m: "
     ]
    }
   ],
   "source": [
    "pred = BiRNN(x, istate_fw, istate_bw, weights, biases, batch_size, n_steps)\n",
    "\n",
    "\n",
    "# Define loss and optimizer\n",
    "cost = tf.reduce_mean(tf.nn.softmax_cross_entropy_with_logits(pred, y)) # Softmax loss\n",
    "optimizer = tf.train.AdamOptimizer(learning_rate=learning_rate).minimize(cost) # Adam Optimizer\n",
    "\n",
    "# Evaluate model\n",
    "correct_pred = tf.equal(tf.argmax(pred,1), tf.argmax(y,1))\n",
    "accuracy = tf.reduce_mean(tf.cast(correct_pred, tf.float32))\n",
    "\n",
    "# Initializing the variables\n",
    "init = tf.initialize_all_variables()\n",
    "\n",
    "# Launch the graph\n",
    "with tf.Session() as sess:\n",
    "    sess.run(init)\n",
    "    step = 1\n",
    "    # Keep training until reach max iterations\n",
    "    while step * batch_size < training_iters:\n",
    "        batch_xs, batch_ys = mnist.train.next_batch(batch_size)\n",
    "        # Reshape data to get 28 seq of 28 elements\n",
    "        batch_xs = batch_xs.reshape((batch_size, n_steps, n_input))\n",
    "        # Fit training using batch data\n",
    "        sess.run(optimizer, feed_dict={x: batch_xs, y: batch_ys,\n",
    "                                       istate_fw: np.zeros((batch_size, 2*n_hidden)),\n",
    "                                       istate_bw: np.zeros((batch_size, 2*n_hidden))})\n",
    "        if step % display_step == 0:\n",
    "            # Calculate batch accuracy\n",
    "            acc = sess.run(accuracy, feed_dict={x: batch_xs, y: batch_ys,\n",
    "                                                istate_fw: np.zeros((batch_size, 2*n_hidden)),\n",
    "                                                istate_bw: np.zeros((batch_size, 2*n_hidden))})\n",
    "            # Calculate batch loss\n",
    "            loss = sess.run(cost, feed_dict={x: batch_xs, y: batch_ys,\n",
    "                                             istate_fw: np.zeros((batch_size, 2*n_hidden)),\n",
    "                                             istate_bw: np.zeros((batch_size, 2*n_hidden))})\n",
    "            print \"Iter \" + str(step*batch_size) + \", Minibatch Loss= \" + \"{:.6f}\".format(loss) + \\\n",
    "                  \", Training Accuracy= \" + \"{:.5f}\".format(acc)\n",
    "        step += 1\n",
    "    print \"Optimization Finished!\"\n",
    "    # Calculate accuracy for 128 mnist test images\n",
    "    test_len = 128\n",
    "    test_data = mnist.test.images[:test_len].reshape((-1, n_steps, n_input))\n",
    "    test_label = mnist.test.labels[:test_len]\n",
    "    print \"Testing Accuracy:\", sess.run(accuracy, feed_dict={x: test_data, y: test_label,\n",
    "                                                             istate_fw: np.zeros((test_len, 2*n_hidden)),\n",
    "                                                             istate_bw: np.zeros((test_len, 2*n_hidden))})"
   ]
  },
  {
   "cell_type": "code",
   "execution_count": null,
   "metadata": {
    "collapsed": true
   },
   "outputs": [],
   "source": []
  },
  {
   "cell_type": "code",
   "execution_count": null,
   "metadata": {
    "collapsed": true
   },
   "outputs": [],
   "source": []
  },
  {
   "cell_type": "code",
   "execution_count": null,
   "metadata": {
    "collapsed": true
   },
   "outputs": [],
   "source": []
  }
 ],
 "metadata": {
  "kernelspec": {
   "display_name": "Python 2",
   "language": "python",
   "name": "python2"
  },
  "language_info": {
   "codemirror_mode": {
    "name": "ipython",
    "version": 2
   },
   "file_extension": ".py",
   "mimetype": "text/x-python",
   "name": "python",
   "nbconvert_exporter": "python",
   "pygments_lexer": "ipython2",
   "version": "2.7.11"
  }
 },
 "nbformat": 4,
 "nbformat_minor": 0
}
