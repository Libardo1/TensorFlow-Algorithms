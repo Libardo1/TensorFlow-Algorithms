{
 "cells": [
  {
   "cell_type": "code",
   "execution_count": null,
   "metadata": {
    "collapsed": true
   },
   "outputs": [],
   "source": [
    "input_sizes = \n",
    "hidden_size = "
   ]
  },
  {
   "cell_type": "code",
   "execution_count": null,
   "metadata": {
    "collapsed": true
   },
   "outputs": [],
   "source": [
    "with tf.variable_scope(\"linear\"):\n",
    "    initializer = tf.random_uniform_initializer(-1/math.sqrt(hidden_size), 1/math.sqrt(hidden_size))\n",
    "\n",
    "\n",
    "    matrices = [tf.get_variable(\"matrix_%d\" % (i,), (ipt_sz, self.hidden_size), initializer=initializer)\n",
    "                     for i, ipt_sz in enumerate(self.input_sizes)]\n",
    "    bias = tf.get_variable(\"bias\", (self.hidden_size,), initializer=tf.constant_initializer(bias_init))\n",
    "\n",
    "    inputs = flatten(inputs)\n",
    "\n",
    "        summands = [tf.matmul(ipt,weight) for ipt, weight in zip(inputs, self.matrices)]\n",
    "        summands.append(self.bias)\n",
    "        return sum(summands)"
   ]
  },
  {
   "cell_type": "code",
   "execution_count": null,
   "metadata": {
    "collapsed": true
   },
   "outputs": [],
   "source": [
    "with tf.variable_scope(\"GRU\"):\n",
    "    self.reset_gate = Linear(self.input_sizes + [self.hidden_size], self.hidden_size, bias_init=1.0, scope=\"reset_gate\")\n",
    "    self.update_gate = Linear(self.input_sizes + [self.hidden_size], self.hidden_size, bias_init=1.0, scope=\"update_gate\")\n",
    "    self.memory_interpolation = Linear(self.input_sizes + [self.hidden_size], self.hidden_size, scope=\"memory_interpolation\")"
   ]
  },
  {
   "cell_type": "code",
   "execution_count": null,
   "metadata": {
    "collapsed": true
   },
   "outputs": [],
   "source": [
    "    def __call__(self, inputs, state):\n",
    "        inputs = flatten(inputs)\n",
    "        with tf.variable_scope(self.scope):\n",
    "            r = self.reset_gate(inputs + [state])\n",
    "            u = self.update_gate(inputs + [state])\n",
    "            r, u = tf.sigmoid(r), tf.sigmoid(u)\n",
    "            c = self.memory_interpolation(inputs + [r * state])\n",
    "            c = self.final_nonlinearity(c)\n",
    "            return u * state + (1-u) * c"
   ]
  },
  {
   "cell_type": "code",
   "execution_count": null,
   "metadata": {
    "collapsed": true
   },
   "outputs": [],
   "source": [
    "    def zero_state(self, batch_size):\n",
    "        zeros = tf.zeros(tf.pack([batch_size, self.hidden_size]))\n",
    "        zeros.set_shape([None, self.hidden_size])\n",
    "        return zeros"
   ]
  },
  {
   "cell_type": "code",
   "execution_count": null,
   "metadata": {
    "collapsed": true
   },
   "outputs": [],
   "source": [
    "\n",
    "r, u = array_ops.split(1, 2, linear([inputs, state], 2 * self._num_units, True, 1.0))\n",
    "r, u = sigmoid(r), sigmoid(u)\n",
    "c = tanh(linear([inputs, r * state], self._num_units, True))\n",
    "new_h = u * state + (1 - u) * c\n",
    "return new_h, new_h"
   ]
  }
 ],
 "metadata": {
  "kernelspec": {
   "display_name": "Python 2",
   "language": "python",
   "name": "python2"
  },
  "language_info": {
   "codemirror_mode": {
    "name": "ipython",
    "version": 2
   },
   "file_extension": ".py",
   "mimetype": "text/x-python",
   "name": "python",
   "nbconvert_exporter": "python",
   "pygments_lexer": "ipython2",
   "version": "2.7.11"
  }
 },
 "nbformat": 4,
 "nbformat_minor": 0
}
