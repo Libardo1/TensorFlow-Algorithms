{
 "cells": [
  {
   "cell_type": "code",
   "execution_count": 1,
   "metadata": {
    "collapsed": false
   },
   "outputs": [
    {
     "name": "stderr",
     "output_type": "stream",
     "text": [
      "/Users/marvinbertin/anaconda/envs/TensorFlow-env/lib/python2.7/site-packages/matplotlib/font_manager.py:273: UserWarning: Matplotlib is building the font cache using fc-list. This may take a moment.\n",
      "  warnings.warn('Matplotlib is building the font cache using fc-list. This may take a moment.')\n"
     ]
    }
   ],
   "source": [
    "import numpy as np\n",
    "from copy import copy\n",
    "import matplotlib.pyplot as plt\n",
    "from hmmestimate import HMM"
   ]
  },
  {
   "cell_type": "code",
   "execution_count": 2,
   "metadata": {
    "collapsed": false
   },
   "outputs": [],
   "source": [
    "def generate_HMM_observation(nSteps, pi, T, E):\n",
    "\n",
    "    def drawFrom(probs):\n",
    "        return np.where(np.random.multinomial(1,probs) == 1)[0][0]\n",
    "\n",
    "    observations = np.zeros(nSteps)\n",
    "    states = np.zeros(nSteps)\n",
    "    states[0] = drawFrom(pi)\n",
    "    observations[0] = drawFrom(B[states[0],:])\n",
    "    for t in range(1,nSteps):\n",
    "        states[t] = drawFrom(A[states[t-1],:])\n",
    "        observations[t] = drawFrom(B[states[t],:])\n",
    "    return observations,states"
   ]
  },
  {
   "cell_type": "code",
   "execution_count": 5,
   "metadata": {
    "collapsed": false
   },
   "outputs": [],
   "source": [
    "True_pi = np.array([0.3, 0.7])\n",
    "True_T = np.array([[0.15, 0.85],\n",
    "                  [0.88, 0.12]])"
   ]
  },
  {
   "cell_type": "code",
   "execution_count": 87,
   "metadata": {
    "collapsed": true
   },
   "outputs": [],
   "source": [
    "# True_E = np.array([[0.6, 0.4],\n",
    "#                    [0.2, 0.3],\n",
    "#                    [0.2, 0.3]])\n",
    "True_E = np.array([[ 0.6,  0.2,  0.2],\n",
    "                   [ 0.4,  0.3,  0.3]])"
   ]
  },
  {
   "cell_type": "code",
   "execution_count": 88,
   "metadata": {
    "collapsed": false
   },
   "outputs": [
    {
     "data": {
      "text/plain": [
       "array([[ 0.6,  0.2,  0.2],\n",
       "       [ 0.4,  0.3,  0.3]])"
      ]
     },
     "execution_count": 88,
     "metadata": {},
     "output_type": "execute_result"
    }
   ],
   "source": [
    "True_E"
   ]
  },
  {
   "cell_type": "code",
   "execution_count": 89,
   "metadata": {
    "collapsed": false
   },
   "outputs": [
    {
     "name": "stdout",
     "output_type": "stream",
     "text": [
      "[ 0.  2.  0.  2.] [ 0.  1.  0.  1.]\n"
     ]
    },
    {
     "name": "stderr",
     "output_type": "stream",
     "text": [
      "/Users/marvinbertin/anaconda/envs/TensorFlow-env/lib/python2.7/site-packages/ipykernel/__main__.py:9: VisibleDeprecationWarning: using a non-integer number instead of an integer will result in an error in the future\n",
      "/Users/marvinbertin/anaconda/envs/TensorFlow-env/lib/python2.7/site-packages/ipykernel/__main__.py:11: VisibleDeprecationWarning: using a non-integer number instead of an integer will result in an error in the future\n",
      "/Users/marvinbertin/anaconda/envs/TensorFlow-env/lib/python2.7/site-packages/ipykernel/__main__.py:12: VisibleDeprecationWarning: using a non-integer number instead of an integer will result in an error in the future\n"
     ]
    }
   ],
   "source": [
    "num_obs = 4\n",
    "obs, states = generate_HMM_observation(num_obs, True_pi, True_T, True_E)\n",
    "print obs, states"
   ]
  },
  {
   "cell_type": "code",
   "execution_count": 68,
   "metadata": {
    "collapsed": true
   },
   "outputs": [],
   "source": [
    "# obs = np.array([ 0.,  2.,  2.,  1.])\n",
    "# states = np.array([ 0.,  1.,  0.,  1.])"
   ]
  },
  {
   "cell_type": "code",
   "execution_count": 14,
   "metadata": {
    "collapsed": false
   },
   "outputs": [],
   "source": [
    "hmm = HMM()\n",
    "hmm.pi = np.array([0.5, 0.5])\n",
    "hmm.A = np.array([[0.85, 0.15],\n",
    "                  [0.12, 0.88]])\n",
    "hmm.B = np.array([[0.8, 0.1, 0.1],\n",
    "                  [0.0, 0.0, 1]])\n",
    "\n",
    "hmmguess = HMM()\n",
    "hmmguess.pi = np.array([0.5, 0.5])\n",
    "hmmguess.A = np.array([[0.5, 0.5],\n",
    "                       [0.5, 0.5]])\n",
    "hmmguess.B = np.array([[0.3, 0.3, 0.4],\n",
    "                       [0.2, 0.5, 0.3]])"
   ]
  },
  {
   "cell_type": "code",
   "execution_count": 15,
   "metadata": {
    "collapsed": false,
    "scrolled": true
   },
   "outputs": [],
   "source": [
    "o,s = hmm.simulate(1000)\n",
    "hmmguess.train(o,0.0001,graphics=False)"
   ]
  },
  {
   "cell_type": "code",
   "execution_count": 16,
   "metadata": {
    "collapsed": false
   },
   "outputs": [
    {
     "name": "stdout",
     "output_type": "stream",
     "text": [
      "('Actual probabilities \\n', array([ 0.5,  0.5]))\n",
      "('Estimated initial probabilities\\n', array([  1.00000000e+00,   1.67160414e-83]))\n",
      "('Actual state transition probabililities\\n', array([[ 0.85,  0.15],\n",
      "       [ 0.12,  0.88]]))\n",
      "('Estimated state transition probabililities\\n', array([[ 0.86644314,  0.13355686],\n",
      "       [ 0.10979206,  0.89020794]]))\n",
      "('Actual observation probabililities\\n', array([[ 0.8,  0.1,  0.1],\n",
      "       [ 0. ,  0. ,  1. ]]))\n",
      "('Estimated observation probabililities\\n', array([[  7.69215318e-01,   1.01493088e-01,   1.29291594e-01],\n",
      "       [  9.65596634e-04,   2.79889770e-04,   9.98754514e-01]]))\n"
     ]
    }
   ],
   "source": [
    "print(\"Actual probabilities \\n\",hmm.pi)\n",
    "print ('Estimated initial probabilities\\n',hmmguess.pi)\n",
    "\n",
    "print ('Actual state transition probabililities\\n',hmm.A)\n",
    "print ('Estimated state transition probabililities\\n',hmmguess.A)\n",
    "\n",
    "print ('Actual observation probabililities\\n',hmm.B)\n",
    "print ('Estimated observation probabililities\\n',hmmguess.B)"
   ]
  },
  {
   "cell_type": "code",
   "execution_count": 23,
   "metadata": {
    "collapsed": false
   },
   "outputs": [],
   "source": [
    "nStates = True_T.shape[0]\n",
    "nSamples = len(obs)\n",
    "\n",
    "A = True_T\n",
    "B = True_E\n",
    "pi = copy(True_pi)"
   ]
  },
  {
   "cell_type": "code",
   "execution_count": 72,
   "metadata": {
    "collapsed": false
   },
   "outputs": [],
   "source": [
    "# alpha_t(i) = P(O_1 O_2 ... O_t, q_t = S_i | hmm)\n",
    "# Initialize alpha\n",
    "alpha = np.zeros((nStates,nSamples))\n",
    "c = np.zeros(nSamples) #scale factors\n",
    "alpha[:,0] = pi.T * B[:,int(obs[0])]\n",
    "c[0] = 1.0/np.sum(alpha[:,0])\n",
    "alpha[:,0] = c[0] * alpha[:,0]\n",
    "# Update alpha for each observation step\n",
    "for t in range(1,nSamples):\n",
    "    alpha[:,t] = np.dot(alpha[:,t-1].T, A).T * B[:,int(obs[t])]\n",
    "    c[t] = 1.0/np.sum(alpha[:,t])\n",
    "    alpha[:,t] = c[t] * alpha[:,t]\n",
    "\n",
    "# Initialize beta\n",
    "beta = np.zeros((nStates,nSamples))\n",
    "beta[:,nSamples-1] = 1\n",
    "beta[:,nSamples-1] = c[nSamples-1] * beta[:,nSamples-1]\n",
    "# Update beta backwards from end of sequence\n",
    "for t in range(len(obs)-1,0,-1):\n",
    "    beta[:,t-1] = np.dot(A, (B[:,int(obs[t])] * beta[:,t]))\n",
    "    beta[:,t-1] = c[t-1] * beta[:,t-1]\n",
    "    \n",
    "xi = np.zeros((nStates,nStates,nSamples-1));\n",
    "for t in range(nSamples-1):\n",
    "    denom = np.dot(np.dot(alpha[:,t].T, A) * B[:,int(obs[t+1])].T,\n",
    "                   beta[:,t+1])\n",
    "    \n",
    "    for i in range(nStates):\n",
    "        numer = alpha[i,t] * A[i,:] * B[:,int(obs[t+1])].T * beta[:,t+1].T\n",
    "        xi[i,:,t] = numer / denom\n",
    "\n",
    "# gamma_t(i) = P(q_t = S_i | O, hmm)\n",
    "gamma = np.squeeze(np.sum(xi,axis=1))\n",
    "# Need final gamma element for new B\n",
    "prod =  (alpha[:,nSamples-1] * beta[:,nSamples-1]).reshape((-1,1))\n",
    "gamma = np.hstack((gamma,  prod / np.sum(prod))) #append one more to gamma!!!\n",
    "\n",
    "newpi = gamma[:,0]\n",
    "newA = np.sum(xi,2) / np.sum(gamma[:,:-1],axis=1).reshape((-1,1))\n",
    "newB = copy(B)\n",
    "\n",
    "numLevels = B.shape[1]\n",
    "sumgamma = np.sum(gamma,axis=1)\n",
    "for lev in range(numLevels):\n",
    "    mask = obs == lev\n",
    "    newB[:,lev] = np.sum(gamma[:,mask],axis=1) / sumgamma"
   ]
  }
 ],
 "metadata": {
  "kernelspec": {
   "display_name": "Python 2",
   "language": "python",
   "name": "python2"
  },
  "language_info": {
   "codemirror_mode": {
    "name": "ipython",
    "version": 2
   },
   "file_extension": ".py",
   "mimetype": "text/x-python",
   "name": "python",
   "nbconvert_exporter": "python",
   "pygments_lexer": "ipython2",
   "version": "2.7.11"
  }
 },
 "nbformat": 4,
 "nbformat_minor": 0
}
