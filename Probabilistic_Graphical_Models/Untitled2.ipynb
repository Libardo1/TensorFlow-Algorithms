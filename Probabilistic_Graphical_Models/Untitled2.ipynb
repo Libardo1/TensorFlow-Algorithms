{
 "cells": [
  {
   "cell_type": "code",
   "execution_count": 3,
   "metadata": {
    "collapsed": false
   },
   "outputs": [],
   "source": [
    "import numpy as np\n",
    "from copy import copy\n",
    "import matplotlib.pyplot as plt"
   ]
  },
  {
   "cell_type": "code",
   "execution_count": 102,
   "metadata": {
    "collapsed": false
   },
   "outputs": [],
   "source": [
    "def generate_HMM_observation(num_obs, pi, T, E):\n",
    "    def drawFrom(probs):\n",
    "        return np.where(np.random.multinomial(1,probs) == 1)[0][0]\n",
    "\n",
    "    obs = np.zeros(num_obs)\n",
    "    states = np.zeros(num_obs)\n",
    "    states[0] = drawFrom(pi)\n",
    "    obs[0] = drawFrom(E[:, int(states[0])])\n",
    "    for t in range(1,num_obs):\n",
    "        states[t] = drawFrom(T[int(states[t-1]),:])\n",
    "        obs[t] = drawFrom(E[:, int(states[t])])\n",
    "    return obs, states"
   ]
  },
  {
   "cell_type": "code",
   "execution_count": 103,
   "metadata": {
    "collapsed": false
   },
   "outputs": [],
   "source": [
    "True_pi = np.array([0.3, 0.7])\n",
    "True_T = np.array([[0.15, 0.85],\n",
    "                  [0.88, 0.12]])"
   ]
  },
  {
   "cell_type": "code",
   "execution_count": 118,
   "metadata": {
    "collapsed": true
   },
   "outputs": [],
   "source": [
    "True_E = np.array([[0.6, 0.4],\n",
    "                   [0.2, 0.3],\n",
    "                   [0.2, 1.3]])"
   ]
  },
  {
   "cell_type": "code",
   "execution_count": null,
   "metadata": {
    "collapsed": true
   },
   "outputs": [],
   "source": []
  },
  {
   "cell_type": "code",
   "execution_count": 134,
   "metadata": {
    "collapsed": false
   },
   "outputs": [
    {
     "name": "stdout",
     "output_type": "stream",
     "text": [
      "[ 0.  2.  2.  1.] [ 0.  1.  0.  1.]\n"
     ]
    }
   ],
   "source": [
    "num_obs = 4\n",
    "obs, states = generate_HMM_observation(num_obs, True_pi, True_T, True_E)\n",
    "print obs, states"
   ]
  },
  {
   "cell_type": "code",
   "execution_count": 135,
   "metadata": {
    "collapsed": false
   },
   "outputs": [
    {
     "name": "stdout",
     "output_type": "stream",
     "text": [
      "[ 0.  2.  2.  1.] [ 0.  1.  0.  1.]\n"
     ]
    }
   ],
   "source": [
    "print obs, states"
   ]
  },
  {
   "cell_type": "code",
   "execution_count": 136,
   "metadata": {
    "collapsed": true
   },
   "outputs": [],
   "source": [
    "True_E = True_E.T"
   ]
  },
  {
   "cell_type": "code",
   "execution_count": 137,
   "metadata": {
    "collapsed": false
   },
   "outputs": [
    {
     "data": {
      "text/plain": [
       "array([[ 0.6,  0.2,  0.2],\n",
       "       [ 0.4,  0.3,  1.3]])"
      ]
     },
     "execution_count": 137,
     "metadata": {},
     "output_type": "execute_result"
    }
   ],
   "source": [
    "True_E"
   ]
  },
  {
   "cell_type": "code",
   "execution_count": 138,
   "metadata": {
    "collapsed": false
   },
   "outputs": [],
   "source": [
    "nStates = True_T.shape[0]\n",
    "nSamples = len(obs)\n",
    "\n",
    "A = True_T\n",
    "B = True_E\n",
    "pi = copy(True_pi)"
   ]
  },
  {
   "cell_type": "code",
   "execution_count": 172,
   "metadata": {
    "collapsed": false
   },
   "outputs": [],
   "source": [
    "# alpha_t(i) = P(O_1 O_2 ... O_t, q_t = S_i | hmm)\n",
    "# Initialize alpha\n",
    "alpha = np.zeros((nStates,nSamples))\n",
    "c = np.zeros(nSamples) #scale factors\n",
    "alpha[:,0] = pi.T * B[:,int(obs[0])]\n",
    "c[0] = 1.0/np.sum(alpha[:,0])\n",
    "alpha[:,0] = c[0] * alpha[:,0]\n",
    "# Update alpha for each observation step\n",
    "for t in range(1,nSamples):\n",
    "    alpha[:,t] = np.dot(alpha[:,t-1].T, A).T * B[:,int(obs[t])]\n",
    "    c[t] = 1.0/np.sum(alpha[:,t])\n",
    "    alpha[:,t] = c[t] * alpha[:,t]\n",
    "\n",
    "# Initialize beta\n",
    "beta = np.zeros((nStates,nSamples))\n",
    "beta[:,nSamples-1] = 1\n",
    "beta[:,nSamples-1] = c[nSamples-1] * beta[:,nSamples-1]\n",
    "# Update beta backwards from end of sequence\n",
    "for t in range(len(obs)-1,0,-1):\n",
    "    beta[:,t-1] = np.dot(A, (B[:,int(obs[t])] * beta[:,t]))\n",
    "    beta[:,t-1] = c[t-1] * beta[:,t-1]"
   ]
  },
  {
   "cell_type": "code",
   "execution_count": 176,
   "metadata": {
    "collapsed": false
   },
   "outputs": [],
   "source": [
    "xi = np.zeros((nStates,nStates,nSamples-1));\n",
    "for t in range(nSamples-1):\n",
    "    denom = np.dot(np.dot(alpha[:,t].T, A) * B[:,int(obs[t+1])].T,\n",
    "                   beta[:,t+1])\n",
    "    for i in range(nStates):\n",
    "        numer = alpha[i,t] * A[i,:] * B[:,int(obs[t+1])].T * beta[:,t+1].T\n",
    "        xi[i,:,t] = numer / denom\n"
   ]
  },
  {
   "cell_type": "code",
   "execution_count": 178,
   "metadata": {
    "collapsed": false
   },
   "outputs": [
    {
     "data": {
      "text/plain": [
       "array([[[ 0.0391778 ,  0.3575337 ],\n",
       "        [ 0.49465777,  0.10863073]],\n",
       "\n",
       "       [[ 0.01396929,  0.36357352],\n",
       "        [ 0.38274221,  0.23971498]],\n",
       "\n",
       "       [[ 0.03974135,  0.51675692],\n",
       "        [ 0.33780146,  0.10570028]]])"
      ]
     },
     "execution_count": 178,
     "metadata": {},
     "output_type": "execute_result"
    }
   ],
   "source": [
    "xi.T"
   ]
  },
  {
   "cell_type": "code",
   "execution_count": null,
   "metadata": {
    "collapsed": true
   },
   "outputs": [],
   "source": [
    "0.51211628  0.34534506"
   ]
  }
 ],
 "metadata": {
  "kernelspec": {
   "display_name": "Python 2",
   "language": "python",
   "name": "python2"
  },
  "language_info": {
   "codemirror_mode": {
    "name": "ipython",
    "version": 2
   },
   "file_extension": ".py",
   "mimetype": "text/x-python",
   "name": "python",
   "nbconvert_exporter": "python",
   "pygments_lexer": "ipython2",
   "version": "2.7.11"
  }
 },
 "nbformat": 4,
 "nbformat_minor": 0
}
