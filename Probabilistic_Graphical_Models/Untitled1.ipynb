{
 "cells": [
  {
   "cell_type": "code",
   "execution_count": 1,
   "metadata": {
    "collapsed": true
   },
   "outputs": [],
   "source": [
    "from __future__ import print_function\n",
    "import tensorflow as tf\n",
    "import numpy as np"
   ]
  },
  {
   "cell_type": "code",
   "execution_count": 61,
   "metadata": {
    "collapsed": true
   },
   "outputs": [],
   "source": [
    "class HiddenMarkovModel(object):\n",
    "\n",
    "    \"\"\"\n",
    "    Hidden Markov Model Class\n",
    "\n",
    "    Parameters:\n",
    "    -----------\n",
    "    \n",
    "    - S: Number of states.\n",
    "    - T: Transition matrix of size S by S\n",
    "         stores probability from state i to state j.\n",
    "    - E: Emission matrix of size S by N (number of observations)\n",
    "         stores the probability of observing  O_j  from state  S_i. \n",
    "    - T0: Initial state probabilities of size S.\n",
    "    \"\"\"\n",
    "\n",
    "    def __init__(self, T, E, T0):\n",
    "        # Number of possible states\n",
    "        self.S = T.shape[0]\n",
    "        \n",
    "        # Number of possible observations\n",
    "        self.O = E.shape[0]\n",
    "        \n",
    "        # Emission probability\n",
    "        self.E = tf.Variable(E, dtype=tf.float64, name='emission_matrix')\n",
    "\n",
    "        # Transition matrix\n",
    "        self.T = tf.Variable(T, dtype=tf.float64, name='transition_matrix')\n",
    "\n",
    "        # Initial state vector\n",
    "        self.T0 = tf.constant(T0, dtype=tf.float64, name='inital_state_vector')\n",
    "    \n",
    "    def initialize_variables(self, shape):\n",
    "        self.forward = tf.Variable(tf.zeros(shape, dtype=tf.float64), name='forward')\n",
    "        self.backward = tf.Variable(tf.zeros(shape, dtype=tf.float64), name='backward')\n",
    "        self.posterior = tf.Variable(tf.zeros(shape, dtype=tf.float64), name='posteriror')\n",
    "\n",
    "\n",
    "    def _forward(self, obs_prob_list):\n",
    "        \n",
    "        self.scale = tf.Variable(tf.zeros([self.N], tf.float64)) #scale factors\n",
    "        \n",
    "        # initialize with state starting priors\n",
    "        init_prob = tf.mul(self.T0, tf.squeeze(obs_prob_list[0]))\n",
    "        \n",
    "        # scaling factor at t=0\n",
    "        self.scale = tf.scatter_update(self.scale, 0, 1.0 / tf.reduce_sum(init_prob))\n",
    "\n",
    "        # scaled belief at t=0\n",
    "        self.forward = tf.scatter_update(self.forward, 0, self.scale[0] * init_prob)\n",
    "\n",
    "        # propagate belief\n",
    "        for step, obs_prob in enumerate(obs_prob_list[1:]):\n",
    "            # previous state probability\n",
    "            prev_prob = tf.expand_dims(self.forward[step, :], 0)\n",
    "            # transition prior\n",
    "            prior_prob = tf.matmul(prev_prob, self.T)\n",
    "            # forward belief propagation\n",
    "            forward_score = tf.mul(prior_prob, tf.squeeze(obs_prob))\n",
    "\n",
    "            forward_prob = tf.squeeze(forward_score)\n",
    "            # scaling factor\n",
    "            self.scale = tf.scatter_update(self.scale, step+1, 1.0 / tf.reduce_sum(forward_prob))\n",
    "            # Update forward matrix\n",
    "            self.forward = tf.scatter_update(self.forward, step+1, self.scale[step+1] * forward_prob)\n",
    "        \n",
    "\n",
    "    def _backward(self, obs_prob_list):\n",
    "        # initialize with state ending priors\n",
    "        self.backward = tf.scatter_update(self.backward, 0, self.scale[self.N-1] * tf.ones([self.S], dtype=tf.float64)) \n",
    "\n",
    "        # propagate belief\n",
    "        for step, obs_prob in enumerate(obs_prob_list[:-1]):\n",
    "            # next state probability\n",
    "            next_prob = tf.expand_dims(self.backward[step, :], 1)\n",
    "            # observation emission probabilities\n",
    "            obs_prob_d = tf.diag(tf.squeeze(obs_prob))\n",
    "            # transition prior\n",
    "            prior_prob = tf.matmul(self.T, obs_prob_d)\n",
    "            # backward belief propagation\n",
    "            backward_score = tf.matmul(prior_prob, next_prob)\n",
    "\n",
    "            backward_prob = tf.squeeze(backward_score)\n",
    "\n",
    "            # Update backward matrix\n",
    "            self.backward = tf.scatter_update(self.backward, step+1, self.scale[self.N-2-step] * backward_prob)\n",
    "        \n",
    "        self.backward = tf.reverse(self.backward, [True, False])\n",
    "        # remove final probability\n",
    "        #self.backward = tf.slice(self.backward, [0,0], [self.N, self.S])\n",
    "        \n",
    "    def _posterior(self):\n",
    "        # posterior score\n",
    "        self.posterior = tf.mul(self.forward, self.backward)\n",
    "        \n",
    "        # marginal per timestep\n",
    "        #marginal = tf.reduce_sum(self.forward[self.N-1, :], 0)\n",
    "        marginal = tf.reduce_sum(self.posterior, 1)\n",
    "#         init_prob = tf.mul(self.T0, tf.squeeze(obs_prob_list[0])) #2x1\n",
    "        \n",
    "        # Normalize porsterior into probabilities\n",
    "        self.posterior = self.posterior / tf.expand_dims(marginal, 1)       \n",
    "        \n",
    "        \n",
    "    def re_estimate_emission(self, x):\n",
    "        \n",
    "        states_marginal = tf.reduce_sum(self.posterior, 0)\n",
    "        seq_one_hot = tf.one_hot(tf.cast(x, tf.int64), self.O, 1, 0)\n",
    "        emission_score = tf.matmul(tf.cast(seq_one_hot, tf.float64), self.posterior, transpose_a=True)\n",
    "        return emission_score / states_marginal\n",
    "    \n",
    "    def re_estimate_transition(self, x):\n",
    "        \n",
    "        self.M = tf.Variable(tf.zeros((self.N-1, self.S, self.S), tf.float64))\n",
    "        \n",
    "        for t in range(self.N - 1):\n",
    "            tmp_0 = tf.matmul(tf.expand_dims(self.forward[t, :], 0), self.T)\n",
    "            tmp_1 = tf.mul(tmp_0, tf.expand_dims(tf.gather(self.E, x[t+1]), 0))\n",
    "            denom = tf.squeeze(tf.matmul(tmp_1, tf.expand_dims(self.backward[t+1, :], 1)))\n",
    "\n",
    "            trans_re_estimate = tf.Variable(tf.zeros((self.S, self.S), tf.float64))\n",
    "            for i in range(self.S):\n",
    "                numer = self.forward[t, i] * self.T[:, i] * tf.gather(self.E, x[t+1]) * self.backward[t+1, :]\n",
    "                trans_re_estimate = tf.scatter_update(trans_re_estimate, i, numer / denom)\n",
    "\n",
    "            self.M = tf.scatter_update(self.M, t, trans_re_estimate)\n",
    "#             return tf.reduce_sum(self.M, 0) / tf.expand_dims(tf.reduce_sum(self.posterior, 0), 0)\n",
    "        \n",
    "    def forward_backward(self, obs_seq):\n",
    "        \"\"\"\n",
    "        runs forward backward algorithm on observation sequence\n",
    "\n",
    "        Arguments\n",
    "        ---------\n",
    "        - obs_seq : matrix of size N by S, where N is number of timesteps and\n",
    "            S is the number of states\n",
    "\n",
    "        Returns\n",
    "        -------\n",
    "        - forward : matrix of size N by S representing\n",
    "            the forward probability of each state at each time step\n",
    "        - backward : matrix of size N by S representing\n",
    "            the backward probability of each state at each time step\n",
    "        - posterior : matrix of size N by S representing\n",
    "            the posterior probability of each state at each time step\n",
    "        \"\"\"\n",
    "\n",
    "        # length of observed sequence\n",
    "        self.N = len(obs_seq)\n",
    "\n",
    "        # shape of Variables\n",
    "        shape = [self.N, self.S]\n",
    "        \n",
    "        # observed sequence\n",
    "        x = tf.constant(obs_seq, dtype=tf.int32, name='observation_sequence')\n",
    "        \n",
    "        # initialize variables\n",
    "        self.initialize_variables(shape)\n",
    "        \n",
    "        # probability of emission sequence\n",
    "        obs_prob_seq = tf.gather(self.E, x)\n",
    "        \n",
    "        obs_prob_list_for = tf.split(0, self.N, obs_prob_seq)\n",
    "        \n",
    "        # forward belief propagation\n",
    "        self._forward(obs_prob_list_for)\n",
    "        \n",
    "        obs_prob_seq_rev = tf.reverse(obs_prob_seq, [True, False])\n",
    "        obs_prob_list_back = tf.split(0, self.N, obs_prob_seq_rev)\n",
    "        \n",
    "        # backward belief propagation\n",
    "        self._backward(obs_prob_list_back)\n",
    "\n",
    "        # apply smoothing\n",
    "#         self._posterior()\n",
    "        \n",
    "#         new_emission = self.re_estimate_emission(x)\n",
    "#         new_transition = self.re_estimate_transition(x)\n",
    "        self.re_estimate_transition(x)\n",
    "\n",
    "#         self.E = new_emission\n",
    "#         self.T = new_transition\n",
    "        return self.forward, self.backward, self.M\n",
    "    \n",
    "    def run_forward_backward(self, obs_seq):\n",
    "        with tf.Session() as sess:\n",
    "            \n",
    "            forward, backward, M = self.forward_backward(obs_seq)\n",
    "            sess.run(tf.initialize_all_variables())\n",
    "            return sess.run([forward, backward, M])"
   ]
  },
  {
   "cell_type": "code",
   "execution_count": 62,
   "metadata": {
    "collapsed": true
   },
   "outputs": [],
   "source": [
    "True_pi = np.array([0.3, 0.7])\n",
    "\n",
    "True_T = np.array([[0.15, 0.85],\n",
    "                  [0.88, 0.12]])\n",
    "\n",
    "True_E = np.array([[0.6, 0.4],\n",
    "                   [0.2, 0.3],\n",
    "                   [0.2, 1.3]])\n",
    "\n",
    "obs_seq = [ 0,  2,  2,  1]"
   ]
  },
  {
   "cell_type": "code",
   "execution_count": 63,
   "metadata": {
    "collapsed": false,
    "scrolled": true
   },
   "outputs": [
    {
     "name": "stdout",
     "output_type": "stream",
     "text": [
      "[[ 0.39130435  0.60869565]\n",
      " [ 0.18394671  0.81605329]\n",
      " [ 0.31090456  0.68909544]\n",
      " [ 0.55649826  0.44350174]]\n",
      "\n",
      "[[ 2.96575316  1.66487297]\n",
      " [ 3.33736818  1.1440049 ]\n",
      " [ 2.53140162  1.88300752]\n",
      " [ 4.26083044  4.26083044]]\n",
      "\n",
      "[[[ 0.0391778   0.51211628]\n",
      "  [ 0.34534506  0.10863073]]\n",
      "\n",
      " [[ 0.01396929  0.39625076]\n",
      "  [ 0.35117896  0.23971498]]\n",
      "\n",
      " [[ 0.03974135  0.34972386]\n",
      "  [ 0.4991402   0.10570028]]]\n",
      "\n"
     ]
    }
   ],
   "source": [
    "model =  HiddenMarkovModel(True_T, True_E, True_pi)\n",
    "\n",
    "results = model.run_forward_backward(obs_seq)\n",
    "for i in results:\n",
    "    print(i)\n",
    "    print()"
   ]
  },
  {
   "cell_type": "code",
   "execution_count": 47,
   "metadata": {
    "collapsed": false
   },
   "outputs": [
    {
     "name": "stderr",
     "output_type": "stream",
     "text": [
      "Exception AssertionError: AssertionError() in <bound method InteractiveSession.__del__ of <tensorflow.python.client.session.InteractiveSession object at 0x10e65fa50>> ignored\n"
     ]
    }
   ],
   "source": [
    "sess = tf.InteractiveSession()"
   ]
  },
  {
   "cell_type": "code",
   "execution_count": 48,
   "metadata": {
    "collapsed": false,
    "scrolled": false
   },
   "outputs": [
    {
     "data": {
      "text/plain": [
       "array([ 2.17391304,  1.54746686,  2.0845962 ,  4.26083044])"
      ]
     },
     "execution_count": 48,
     "metadata": {},
     "output_type": "execute_result"
    }
   ],
   "source": [
    "sess.run(tf.initialize_all_variables())\n",
    "model.scale.eval()"
   ]
  },
  {
   "cell_type": "code",
   "execution_count": null,
   "metadata": {
    "collapsed": true
   },
   "outputs": [],
   "source": [
    "[ 2.17391304,  1.54746686,  2.0845962 ,  4.26083044])"
   ]
  }
 ],
 "metadata": {
  "kernelspec": {
   "display_name": "Python 2",
   "language": "python",
   "name": "python2"
  },
  "language_info": {
   "codemirror_mode": {
    "name": "ipython",
    "version": 2
   },
   "file_extension": ".py",
   "mimetype": "text/x-python",
   "name": "python",
   "nbconvert_exporter": "python",
   "pygments_lexer": "ipython2",
   "version": "2.7.11"
  }
 },
 "nbformat": 4,
 "nbformat_minor": 0
}
