{
 "cells": [
  {
   "cell_type": "code",
   "execution_count": 1,
   "metadata": {
    "collapsed": false
   },
   "outputs": [],
   "source": [
    "import tensorflow as tf\n",
    "import numpy as np\n",
    "from __future__ import print_function"
   ]
  },
  {
   "cell_type": "code",
   "execution_count": 2,
   "metadata": {
    "collapsed": true
   },
   "outputs": [],
   "source": [
    "def dptable(state_prob):\n",
    "    print(\" \".join((\"%10d\" % i) for i in range(state_prob.shape[0])))\n",
    "    for i, prob in enumerate(state_prob.T):\n",
    "        print(\"%.7s: \" % states[i] +\" \".join(\"%.7s\" % (\"%f\" % p) for p in prob))"
   ]
  },
  {
   "cell_type": "code",
   "execution_count": 3,
   "metadata": {
    "collapsed": true
   },
   "outputs": [],
   "source": [
    "class HiddenMarkovModel(object):\n",
    "\n",
    "    \"\"\"\n",
    "    Hidden Markov Model Class\n",
    "\n",
    "    Parameters:\n",
    "    -----------\n",
    "    \n",
    "    - S: Number of states.\n",
    "    - T: Transition matrix of size S by S\n",
    "         stores probability from state i to state j.\n",
    "    - E: Emission matrix of size S by N (number of observations)\n",
    "         stores the probability of observing  O_j  from state  S_i. \n",
    "    - T0: Initial state probabilities of size S.\n",
    "    \"\"\"\n",
    "\n",
    "    def __init__(self, T, E, T0):\n",
    "        # Number of states\n",
    "        self.S = tf.constant(T.shape[0], name='num_states')\n",
    "        \n",
    "        # Emission probability\n",
    "        self.E = tf.constant(E, name='emission_matrix')\n",
    "\n",
    "        # Transition matrix\n",
    "        self.T = tf.constant(T,name='transition_matrix')\n",
    "\n",
    "        # Initial state vector\n",
    "        self.T0 = tf.constant(T0, name='inital_state_vector')\n",
    "    \n",
    "    def _forward(self, y):\n",
    "        # forward pass\n",
    "        # TensorFlow doesn't support indexing. List of Tensors will be used instead\n",
    "        forward = []\n",
    "        \n",
    "        # initialize with state probabilities T0\n",
    "        forward.append(tf.constant(self.T0, shape=(1, self.S), dtype=tf.float64))\n",
    "        #forward.append(tf.ones((1, self.S), dtype=tf.float64) * self.T0)\n",
    "        \n",
    "        # forward belief propagation\n",
    "        for step in range(y.shape[0]):\n",
    "\n",
    "            forward_score = tf.mul(tf.matmul(forward[step], self.T), y[step])\n",
    "            \n",
    "            # normalize scores into probabilities\n",
    "            forward.append(forward_score / tf.reduce_sum(forward_score))\n",
    "\n",
    "        return forward[1:] # remove initial value\n",
    "        \n",
    "\n",
    "    def _backward(self, y):\n",
    "        \n",
    "        N = y.shape[0]\n",
    "        backward = np.zeros((nT + 1, self.K))\n",
    "\n",
    "        # backward pass\n",
    "        backward = [None] * (nT + 1)\n",
    "        backward[-1] = tf.ones((1, self.K), dtype=tf.float64) * (1.0 / self.K)\n",
    "        for t in range(nT, 0, -1):\n",
    "            backward_score = tf.transpose(\n",
    "                tf.matmul(\n",
    "                    tf.matmul(self.P, tf.diag(y[t - 1])),\n",
    "                    tf.transpose(backward[t])\n",
    "                )\n",
    "            )\n",
    "            backward[t - 1] = tmp / tf.reduce_sum(tmp)      \n",
    "        \n",
    "    def forward_backward(self, y):\n",
    "        \"\"\"\n",
    "        runs forward backward algorithm on state probabilities y\n",
    "\n",
    "        Arguments\n",
    "        ---------\n",
    "        y : np.array : shape (T, K) where T is number of timesteps and\n",
    "            K is the number of states\n",
    "\n",
    "        Returns\n",
    "        -------\n",
    "        (posterior, forward, backward)\n",
    "        posterior : list of length T of tensorflow graph nodes representing\n",
    "            the posterior probability of each state at each time step\n",
    "        forward : list of length T of tensorflow graph nodes representing\n",
    "            the forward probability of each state at each time step\n",
    "        backward : list of length T of tensorflow graph nodes representing\n",
    "            the backward probability of each state at each time step\n",
    "        \"\"\"\n",
    "        # set up\n",
    "        nT = y.shape[0]\n",
    "\n",
    "        posterior = np.zeros((nT, self.K))\n",
    "        \n",
    "\n",
    "\n",
    "        # remove initial/final probabilities\n",
    "        forward = forward[1:]\n",
    "        backward = backward[:-1]\n",
    "\n",
    "        # combine and normalize\n",
    "        posterior = [f * b for f, b in zip(forward, backward)]\n",
    "        posterior = [p / tf.reduce_sum(p) for p in posterior]\n",
    "\n",
    "        return posterior, forward, backward\n",
    "\n",
    "    def _viterbi_partial_forward(self, scores):\n",
    "        # first convert scores into shape [K, 1]\n",
    "        # then concatenate K of them into shape [K, K]\n",
    "        \n",
    "        scores_reshape = tf.reshape(scores, (-1,1))\n",
    "        return tf.add(scores_reshape, tf.log(self.T))\n",
    "\n",
    "\n",
    "    def viterbi_decode(self, obs_seq):\n",
    "\n",
    "        pathStates = []\n",
    "        pathScores = []\n",
    "        \n",
    "        N = len(obs_seq)\n",
    "        x = tf.constant(obs_seq, name='observation_sequence')\n",
    "        \n",
    "        obs_prob_seq = tf.log(tf.gather(self.E, x))\n",
    "        obs_prob_list = tf.split(0, N, obs_prob_seq)\n",
    "\n",
    "        # initialize\n",
    "        pathStates.append(None)\n",
    "        \n",
    "        pathScores.append(tf.log(self.T0) + tf.squeeze(obs_prob_list[0]))\n",
    "            \n",
    "        \n",
    "        for step, obs_prob in enumerate(obs_prob_list[1:]):\n",
    "            # propagate forward\n",
    "            tmpMat = self._viterbi_partial_forward(pathScores[step])\n",
    "\n",
    "            # the inferred state\n",
    "            pathStates.append(tf.argmax(tmpMat, 0))\n",
    "            pathScores.append(tf.reduce_max(tmpMat, 0) + tf.squeeze(obs_prob))\n",
    "\n",
    "        # now backtrack viterbi to find states\n",
    "        s = [0] * N\n",
    "        s[-1] = tf.argmax(pathScores[-1], 0)\n",
    "        for step in range(N - 1, 0, -1):\n",
    "            s[step - 1] = tf.gather(pathStates[step], s[step])\n",
    "\n",
    "        return s, pathScores\n",
    "    \n",
    "    def run_viterbi_decode(self, obs_seq):\n",
    "        with tf.Session() as sess:\n",
    "            \n",
    "            state_graph, state_prob = self.viterbi_decode(obs_seq)\n",
    "            states_seq = sess.run(state_graph)\n",
    "            state_prob = [sess.run(tf.exp(g)) for g in state_prob]\n",
    "\n",
    "        return states_seq, np.array(state_prob)"
   ]
  },
  {
   "cell_type": "code",
   "execution_count": 297,
   "metadata": {
    "collapsed": false
   },
   "outputs": [],
   "source": [
    "class HiddenMarkovModel(object):\n",
    "\n",
    "    \"\"\"\n",
    "    Hidden Markov Model Class\n",
    "\n",
    "    Parameters:\n",
    "    -----------\n",
    "    \n",
    "    - S: Number of states.\n",
    "    - T: Transition matrix of size S by S\n",
    "         stores probability from state i to state j.\n",
    "    - E: Emission matrix of size S by N (number of observations)\n",
    "         stores the probability of observing  O_j  from state  S_i. \n",
    "    - T0: Initial state probabilities of size S.\n",
    "    \"\"\"\n",
    "\n",
    "    def __init__(self, T, E, T0):\n",
    "        # Number of states\n",
    "        self.S = tf.constant(T.shape[0], name='num_states')\n",
    "        \n",
    "        # Emission probability\n",
    "        self.E = tf.constant(E, name='emission_matrix')\n",
    "\n",
    "        # Transition matrix\n",
    "        self.T = tf.constant(T,name='transition_matrix')\n",
    "\n",
    "        # Initial state vector\n",
    "        self.T0 = tf.constant(T0, name='inital_state_vector')\n",
    "    \n",
    "    def _viterbi_partial_forward(self, scores):\n",
    "        # first convert scores into shape [K, 1]\n",
    "        # then concatenate K of them into shape [K, K]\n",
    "        \n",
    "        scores_reshape = tf.reshape(scores, (-1,1))\n",
    "        return tf.add(scores_reshape, tf.log(self.T))\n",
    "\n",
    "\n",
    "    def viterbi_decode(self, obs_seq):\n",
    "\n",
    "        N = len(obs_seq)\n",
    "        shape = tf.pack([N, self.S])\n",
    "        pathStates = tf.Variable(tf.zeros(shape, dtype=tf.int64), validate_shape=False, name='States')\n",
    "        pathScores = tf.Variable(tf.zeros(shape, dtype=tf.float64),  validate_shape=False, name='Probabilities')        \n",
    "        \n",
    "        x = tf.constant(obs_seq, name='observation_sequence')\n",
    "        \n",
    "        obs_prob_seq = tf.log(tf.gather(self.E, x))\n",
    "        obs_prob_list = tf.split(0, N, obs_prob_seq)\n",
    "\n",
    "        tf.scatter_update(pathScores, 0, tf.log(self.T0) + tf.squeeze(obs_prob_list[0]))\n",
    "            \n",
    "        \n",
    "        for step, obs_prob in enumerate(obs_prob_list[1:]):\n",
    "            # propagate forward\n",
    "            \n",
    "            tmpMat = self._viterbi_partial_forward(tf.gather(pathScores, step))\n",
    "\n",
    "            # the inferred state\n",
    "            tf.scatter_update(pathStates, step + 1, tf.argmax(tmpMat, 0))\n",
    "            tf.scatter_update(pathScores, step + 1, tf.reduce_max(tmpMat, 0) + tf.squeeze(obs_prob))\n",
    "\n",
    "        # now backtrack viterbi to find states\n",
    "        \n",
    "        states_seq = tf.Variable(tf.zeros([N], dtype=tf.int64))\n",
    "        print(tf.argmax(tf.gather(pathScores, -1), 0).get_shape())\n",
    "        tf.scatter_update(states_seq, -1, tf.argmax(tf.gather(pathScores, -1), 0))\n",
    "        \n",
    "        for step in range(N - 1, 0, -1):\n",
    "            \n",
    "            state = tf.gather(states_seq, step)\n",
    "            idx = tf.reshape(tf.pack([step, state]), (1,2))\n",
    "            state_prob = tf.gather_nd(pathStates, idx)\n",
    "            print(state_prob.get_shape())\n",
    "            print(states_seq.get_shape())\n",
    "            print(tf.gather(states_seq, step - 1).get_shape())\n",
    "#             state_prob.set_shape((1,-1))\n",
    "            tf.scatter_update(states_seq, step - 1,  state_prob)\n",
    "\n",
    "        return states_seq, pathScores\n",
    "    \n",
    "    def run_viterbi_decode(self, obs_seq):\n",
    "        with tf.Session() as sess:\n",
    "            init_op = tf.initialize_all_variables()\n",
    "            state_graph, state_prob_graph = self.viterbi_decode(obs_seq)\n",
    "            _, states_seq, state_prob = sess.run([init_op, state_graph, state_prob_graph])\n",
    "#             state_prob = [sess.run(tf.exp(g)) for g in state_prob_graph]\n",
    "\n",
    "        return states_seq, np.array(state_prob)"
   ]
  },
  {
   "cell_type": "code",
   "execution_count": 298,
   "metadata": {
    "collapsed": false
   },
   "outputs": [],
   "source": [
    "p0 = np.array([0.6, 0.4])\n",
    "\n",
    "emi = np.array([[0.5, 0.1],\n",
    "                [0.4, 0.3],\n",
    "                [0.1, 0.6]])\n",
    "\n",
    "trans = np.array([[0.7, 0.3],\n",
    "                  [0.4, 0.6]])\n",
    "\n",
    "states = {0:'Healthy', 1:'Fever'}\n",
    "obs = {0:'normal', 1:'cold', 2:'dizzy'}\n",
    "\n",
    "obs_seq = np.array([0, 1, 2])"
   ]
  },
  {
   "cell_type": "code",
   "execution_count": 299,
   "metadata": {
    "collapsed": false
   },
   "outputs": [],
   "source": [
    "# flags = tf.app.flags\n",
    "# FLAGS = flags.FLAGS\n",
    "# flags.DEFINE_string('summaries_dir', 'logs', 'Summaries directory')"
   ]
  },
  {
   "cell_type": "code",
   "execution_count": 300,
   "metadata": {
    "collapsed": false
   },
   "outputs": [
    {
     "name": "stdout",
     "output_type": "stream",
     "text": [
      "<unknown>\n",
      "(1,)\n",
      "(3,)\n",
      "()\n"
     ]
    },
    {
     "ename": "ValueError",
     "evalue": "Shapes (1,) and () are not compatible",
     "output_type": "error",
     "traceback": [
      "\u001b[0;31m---------------------------------------------------------------------------\u001b[0m",
      "\u001b[0;31mValueError\u001b[0m                                Traceback (most recent call last)",
      "\u001b[0;32m<ipython-input-300-5ec586d0f8f1>\u001b[0m in \u001b[0;36m<module>\u001b[0;34m()\u001b[0m\n\u001b[1;32m      1\u001b[0m \u001b[0mmodel\u001b[0m \u001b[0;34m=\u001b[0m  \u001b[0mHiddenMarkovModel\u001b[0m\u001b[0;34m(\u001b[0m\u001b[0mtrans\u001b[0m\u001b[0;34m,\u001b[0m \u001b[0memi\u001b[0m\u001b[0;34m,\u001b[0m \u001b[0mp0\u001b[0m\u001b[0;34m)\u001b[0m\u001b[0;34m\u001b[0m\u001b[0m\n\u001b[0;32m----> 2\u001b[0;31m \u001b[0mstates_seq\u001b[0m\u001b[0;34m,\u001b[0m \u001b[0mstate_prob\u001b[0m \u001b[0;34m=\u001b[0m \u001b[0mmodel\u001b[0m\u001b[0;34m.\u001b[0m\u001b[0mrun_viterbi_decode\u001b[0m\u001b[0;34m(\u001b[0m\u001b[0mobs_seq\u001b[0m\u001b[0;34m)\u001b[0m\u001b[0;34m\u001b[0m\u001b[0m\n\u001b[0m\u001b[1;32m      3\u001b[0m \u001b[0;31m# dptable(state_prob)\u001b[0m\u001b[0;34m\u001b[0m\u001b[0;34m\u001b[0m\u001b[0m\n\u001b[1;32m      4\u001b[0m \u001b[0;32mprint\u001b[0m\u001b[0;34m(\u001b[0m\u001b[0mstates_seq\u001b[0m\u001b[0;34m)\u001b[0m\u001b[0;34m\u001b[0m\u001b[0m\n\u001b[1;32m      5\u001b[0m \u001b[0;32mprint\u001b[0m\u001b[0;34m(\u001b[0m\u001b[0mstate_prob\u001b[0m\u001b[0;34m)\u001b[0m\u001b[0;34m\u001b[0m\u001b[0m\n",
      "\u001b[0;32m<ipython-input-297-59719102100a>\u001b[0m in \u001b[0;36mrun_viterbi_decode\u001b[0;34m(self, obs_seq)\u001b[0m\n\u001b[1;32m     82\u001b[0m         \u001b[0;32mwith\u001b[0m \u001b[0mtf\u001b[0m\u001b[0;34m.\u001b[0m\u001b[0mSession\u001b[0m\u001b[0;34m(\u001b[0m\u001b[0;34m)\u001b[0m \u001b[0;32mas\u001b[0m \u001b[0msess\u001b[0m\u001b[0;34m:\u001b[0m\u001b[0;34m\u001b[0m\u001b[0m\n\u001b[1;32m     83\u001b[0m             \u001b[0minit_op\u001b[0m \u001b[0;34m=\u001b[0m \u001b[0mtf\u001b[0m\u001b[0;34m.\u001b[0m\u001b[0minitialize_all_variables\u001b[0m\u001b[0;34m(\u001b[0m\u001b[0;34m)\u001b[0m\u001b[0;34m\u001b[0m\u001b[0m\n\u001b[0;32m---> 84\u001b[0;31m             \u001b[0mstate_graph\u001b[0m\u001b[0;34m,\u001b[0m \u001b[0mstate_prob_graph\u001b[0m \u001b[0;34m=\u001b[0m \u001b[0mself\u001b[0m\u001b[0;34m.\u001b[0m\u001b[0mviterbi_decode\u001b[0m\u001b[0;34m(\u001b[0m\u001b[0mobs_seq\u001b[0m\u001b[0;34m)\u001b[0m\u001b[0;34m\u001b[0m\u001b[0m\n\u001b[0m\u001b[1;32m     85\u001b[0m             \u001b[0m_\u001b[0m\u001b[0;34m,\u001b[0m \u001b[0mstates_seq\u001b[0m\u001b[0;34m,\u001b[0m \u001b[0mstate_prob\u001b[0m \u001b[0;34m=\u001b[0m \u001b[0msess\u001b[0m\u001b[0;34m.\u001b[0m\u001b[0mrun\u001b[0m\u001b[0;34m(\u001b[0m\u001b[0;34m[\u001b[0m\u001b[0minit_op\u001b[0m\u001b[0;34m,\u001b[0m \u001b[0mstate_graph\u001b[0m\u001b[0;34m,\u001b[0m \u001b[0mstate_prob_graph\u001b[0m\u001b[0;34m]\u001b[0m\u001b[0;34m)\u001b[0m\u001b[0;34m\u001b[0m\u001b[0m\n\u001b[1;32m     86\u001b[0m \u001b[0;31m#             state_prob = [sess.run(tf.exp(g)) for g in state_prob_graph]\u001b[0m\u001b[0;34m\u001b[0m\u001b[0;34m\u001b[0m\u001b[0m\n",
      "\u001b[0;32m<ipython-input-297-59719102100a>\u001b[0m in \u001b[0;36mviterbi_decode\u001b[0;34m(self, obs_seq)\u001b[0m\n\u001b[1;32m     75\u001b[0m             \u001b[0;32mprint\u001b[0m\u001b[0;34m(\u001b[0m\u001b[0mtf\u001b[0m\u001b[0;34m.\u001b[0m\u001b[0mgather\u001b[0m\u001b[0;34m(\u001b[0m\u001b[0mstates_seq\u001b[0m\u001b[0;34m,\u001b[0m \u001b[0mstep\u001b[0m \u001b[0;34m-\u001b[0m \u001b[0;36m1\u001b[0m\u001b[0;34m)\u001b[0m\u001b[0;34m.\u001b[0m\u001b[0mget_shape\u001b[0m\u001b[0;34m(\u001b[0m\u001b[0;34m)\u001b[0m\u001b[0;34m)\u001b[0m\u001b[0;34m\u001b[0m\u001b[0m\n\u001b[1;32m     76\u001b[0m \u001b[0;31m#             state_prob.set_shape((1,-1))\u001b[0m\u001b[0;34m\u001b[0m\u001b[0;34m\u001b[0m\u001b[0m\n\u001b[0;32m---> 77\u001b[0;31m             \u001b[0mtf\u001b[0m\u001b[0;34m.\u001b[0m\u001b[0mscatter_update\u001b[0m\u001b[0;34m(\u001b[0m\u001b[0mstates_seq\u001b[0m\u001b[0;34m,\u001b[0m \u001b[0mstep\u001b[0m \u001b[0;34m-\u001b[0m \u001b[0;36m1\u001b[0m\u001b[0;34m,\u001b[0m  \u001b[0mstate_prob\u001b[0m\u001b[0;34m,\u001b[0m \u001b[0muse_locking\u001b[0m\u001b[0;34m=\u001b[0m\u001b[0mFalse\u001b[0m\u001b[0;34m)\u001b[0m\u001b[0;34m\u001b[0m\u001b[0m\n\u001b[0m\u001b[1;32m     78\u001b[0m \u001b[0;34m\u001b[0m\u001b[0m\n\u001b[1;32m     79\u001b[0m         \u001b[0;32mreturn\u001b[0m \u001b[0mstates_seq\u001b[0m\u001b[0;34m,\u001b[0m \u001b[0mpathScores\u001b[0m\u001b[0;34m\u001b[0m\u001b[0m\n",
      "\u001b[0;32m/Users/marvinbertin/anaconda/envs/TensorFlow-env/lib/python2.7/site-packages/tensorflow/python/ops/gen_state_ops.pyc\u001b[0m in \u001b[0;36mscatter_update\u001b[0;34m(ref, indices, updates, use_locking, name)\u001b[0m\n\u001b[1;32m    288\u001b[0m   return _op_def_lib.apply_op(\"ScatterUpdate\", ref=ref, indices=indices,\n\u001b[1;32m    289\u001b[0m                               \u001b[0mupdates\u001b[0m\u001b[0;34m=\u001b[0m\u001b[0mupdates\u001b[0m\u001b[0;34m,\u001b[0m \u001b[0muse_locking\u001b[0m\u001b[0;34m=\u001b[0m\u001b[0muse_locking\u001b[0m\u001b[0;34m,\u001b[0m\u001b[0;34m\u001b[0m\u001b[0m\n\u001b[0;32m--> 290\u001b[0;31m                               name=name)\n\u001b[0m\u001b[1;32m    291\u001b[0m \u001b[0;34m\u001b[0m\u001b[0m\n\u001b[1;32m    292\u001b[0m \u001b[0;34m\u001b[0m\u001b[0m\n",
      "\u001b[0;32m/Users/marvinbertin/anaconda/envs/TensorFlow-env/lib/python2.7/site-packages/tensorflow/python/ops/op_def_library.pyc\u001b[0m in \u001b[0;36mapply_op\u001b[0;34m(self, op_type_name, name, **keywords)\u001b[0m\n\u001b[1;32m    653\u001b[0m         op = g.create_op(op_type_name, inputs, output_types, name=scope,\n\u001b[1;32m    654\u001b[0m                          \u001b[0minput_types\u001b[0m\u001b[0;34m=\u001b[0m\u001b[0minput_types\u001b[0m\u001b[0;34m,\u001b[0m \u001b[0mattrs\u001b[0m\u001b[0;34m=\u001b[0m\u001b[0mattr_protos\u001b[0m\u001b[0;34m,\u001b[0m\u001b[0;34m\u001b[0m\u001b[0m\n\u001b[0;32m--> 655\u001b[0;31m                          op_def=op_def)\n\u001b[0m\u001b[1;32m    656\u001b[0m         \u001b[0moutputs\u001b[0m \u001b[0;34m=\u001b[0m \u001b[0mop\u001b[0m\u001b[0;34m.\u001b[0m\u001b[0moutputs\u001b[0m\u001b[0;34m\u001b[0m\u001b[0m\n\u001b[1;32m    657\u001b[0m         \u001b[0;32mreturn\u001b[0m \u001b[0m_Restructure\u001b[0m\u001b[0;34m(\u001b[0m\u001b[0mops\u001b[0m\u001b[0;34m.\u001b[0m\u001b[0mconvert_n_to_tensor\u001b[0m\u001b[0;34m(\u001b[0m\u001b[0moutputs\u001b[0m\u001b[0;34m)\u001b[0m\u001b[0;34m,\u001b[0m \u001b[0moutput_structure\u001b[0m\u001b[0;34m)\u001b[0m\u001b[0;34m\u001b[0m\u001b[0m\n",
      "\u001b[0;32m/Users/marvinbertin/anaconda/envs/TensorFlow-env/lib/python2.7/site-packages/tensorflow/python/framework/ops.pyc\u001b[0m in \u001b[0;36mcreate_op\u001b[0;34m(self, op_type, inputs, dtypes, input_types, name, attrs, op_def, compute_shapes, compute_device)\u001b[0m\n\u001b[1;32m   2154\u001b[0m                     original_op=self._default_original_op, op_def=op_def)\n\u001b[1;32m   2155\u001b[0m     \u001b[0;32mif\u001b[0m \u001b[0mcompute_shapes\u001b[0m\u001b[0;34m:\u001b[0m\u001b[0;34m\u001b[0m\u001b[0m\n\u001b[0;32m-> 2156\u001b[0;31m       \u001b[0mset_shapes_for_outputs\u001b[0m\u001b[0;34m(\u001b[0m\u001b[0mret\u001b[0m\u001b[0;34m)\u001b[0m\u001b[0;34m\u001b[0m\u001b[0m\n\u001b[0m\u001b[1;32m   2157\u001b[0m     \u001b[0mself\u001b[0m\u001b[0;34m.\u001b[0m\u001b[0m_add_op\u001b[0m\u001b[0;34m(\u001b[0m\u001b[0mret\u001b[0m\u001b[0;34m)\u001b[0m\u001b[0;34m\u001b[0m\u001b[0m\n\u001b[1;32m   2158\u001b[0m     \u001b[0mself\u001b[0m\u001b[0;34m.\u001b[0m\u001b[0m_record_op_seen_by_control_dependencies\u001b[0m\u001b[0;34m(\u001b[0m\u001b[0mret\u001b[0m\u001b[0;34m)\u001b[0m\u001b[0;34m\u001b[0m\u001b[0m\n",
      "\u001b[0;32m/Users/marvinbertin/anaconda/envs/TensorFlow-env/lib/python2.7/site-packages/tensorflow/python/framework/ops.pyc\u001b[0m in \u001b[0;36mset_shapes_for_outputs\u001b[0;34m(op)\u001b[0m\n\u001b[1;32m   1610\u001b[0m       raise RuntimeError(\"No shape function registered for standard op: %s\"\n\u001b[1;32m   1611\u001b[0m                          % op.type)\n\u001b[0;32m-> 1612\u001b[0;31m   \u001b[0mshapes\u001b[0m \u001b[0;34m=\u001b[0m \u001b[0mshape_func\u001b[0m\u001b[0;34m(\u001b[0m\u001b[0mop\u001b[0m\u001b[0;34m)\u001b[0m\u001b[0;34m\u001b[0m\u001b[0m\n\u001b[0m\u001b[1;32m   1613\u001b[0m   \u001b[0;32mif\u001b[0m \u001b[0mlen\u001b[0m\u001b[0;34m(\u001b[0m\u001b[0mop\u001b[0m\u001b[0;34m.\u001b[0m\u001b[0moutputs\u001b[0m\u001b[0;34m)\u001b[0m \u001b[0;34m!=\u001b[0m \u001b[0mlen\u001b[0m\u001b[0;34m(\u001b[0m\u001b[0mshapes\u001b[0m\u001b[0;34m)\u001b[0m\u001b[0;34m:\u001b[0m\u001b[0;34m\u001b[0m\u001b[0m\n\u001b[1;32m   1614\u001b[0m     raise RuntimeError(\n",
      "\u001b[0;32m/Users/marvinbertin/anaconda/envs/TensorFlow-env/lib/python2.7/site-packages/tensorflow/python/ops/state_ops.pyc\u001b[0m in \u001b[0;36m_ScatterUpdateShape\u001b[0;34m(op)\u001b[0m\n\u001b[1;32m    220\u001b[0m   \u001b[0mindices_shape\u001b[0m \u001b[0;34m=\u001b[0m \u001b[0mop\u001b[0m\u001b[0;34m.\u001b[0m\u001b[0minputs\u001b[0m\u001b[0;34m[\u001b[0m\u001b[0;36m1\u001b[0m\u001b[0;34m]\u001b[0m\u001b[0;34m.\u001b[0m\u001b[0mget_shape\u001b[0m\u001b[0;34m(\u001b[0m\u001b[0;34m)\u001b[0m\u001b[0;34m\u001b[0m\u001b[0m\n\u001b[1;32m    221\u001b[0m   unused_updates_shape = op.inputs[2].get_shape().merge_with(\n\u001b[0;32m--> 222\u001b[0;31m       indices_shape.concatenate(var_shape[1:]))\n\u001b[0m\u001b[1;32m    223\u001b[0m   \u001b[0;32mreturn\u001b[0m \u001b[0;34m[\u001b[0m\u001b[0mvar_shape\u001b[0m\u001b[0;34m]\u001b[0m\u001b[0;34m\u001b[0m\u001b[0m\n",
      "\u001b[0;32m/Users/marvinbertin/anaconda/envs/TensorFlow-env/lib/python2.7/site-packages/tensorflow/python/framework/tensor_shape.pyc\u001b[0m in \u001b[0;36mmerge_with\u001b[0;34m(self, other)\u001b[0m\n\u001b[1;32m    552\u001b[0m       \u001b[0;32mexcept\u001b[0m \u001b[0mValueError\u001b[0m\u001b[0;34m:\u001b[0m\u001b[0;34m\u001b[0m\u001b[0m\n\u001b[1;32m    553\u001b[0m         raise ValueError(\"Shapes %s and %s are not compatible\" %\n\u001b[0;32m--> 554\u001b[0;31m                          (self, other))\n\u001b[0m\u001b[1;32m    555\u001b[0m \u001b[0;34m\u001b[0m\u001b[0m\n\u001b[1;32m    556\u001b[0m   \u001b[0;32mdef\u001b[0m \u001b[0mconcatenate\u001b[0m\u001b[0;34m(\u001b[0m\u001b[0mself\u001b[0m\u001b[0;34m,\u001b[0m \u001b[0mother\u001b[0m\u001b[0;34m)\u001b[0m\u001b[0;34m:\u001b[0m\u001b[0;34m\u001b[0m\u001b[0m\n",
      "\u001b[0;31mValueError\u001b[0m: Shapes (1,) and () are not compatible"
     ]
    }
   ],
   "source": [
    "model =  HiddenMarkovModel(trans, emi, p0)\n",
    "states_seq, state_prob = model.run_viterbi_decode(obs_seq)\n",
    "# dptable(state_prob)\n",
    "print(states_seq)\n",
    "print(state_prob)\n",
    "# print(\"Most likely States: \", [obs[s] for s in states_seq])"
   ]
  },
  {
   "cell_type": "code",
   "execution_count": 219,
   "metadata": {
    "collapsed": false
   },
   "outputs": [],
   "source": [
    "a = tf.constant([[1,2],[2,3]])\n"
   ]
  },
  {
   "cell_type": "code",
   "execution_count": 80,
   "metadata": {
    "collapsed": false
   },
   "outputs": [
    {
     "data": {
      "text/plain": [
       "array([1], dtype=int32)"
      ]
     },
     "execution_count": 80,
     "metadata": {},
     "output_type": "execute_result"
    }
   ],
   "source": [
    "s = tf.gather_nd(a,[[0, 0]])\n",
    "s.eval(session=tf.Session())"
   ]
  },
  {
   "cell_type": "code",
   "execution_count": 96,
   "metadata": {
    "collapsed": false
   },
   "outputs": [
    {
     "data": {
      "text/plain": [
       "array([], shape=(0, 1), dtype=int32)"
      ]
     },
     "execution_count": 96,
     "metadata": {},
     "output_type": "execute_result"
    }
   ],
   "source": [
    "tf.slice(a, [1, 1], [0, 1]).eval(session=tf.Session())"
   ]
  },
  {
   "cell_type": "code",
   "execution_count": 141,
   "metadata": {
    "collapsed": false
   },
   "outputs": [
    {
     "data": {
      "text/plain": [
       "(1, 2)"
      ]
     },
     "execution_count": 141,
     "metadata": {},
     "output_type": "execute_result"
    }
   ],
   "source": [
    "np.array([[2,3]]).shape"
   ]
  },
  {
   "cell_type": "code",
   "execution_count": 161,
   "metadata": {
    "collapsed": false
   },
   "outputs": [
    {
     "data": {
      "text/plain": [
       "TensorShape([Dimension(2), Dimension(2)])"
      ]
     },
     "execution_count": 161,
     "metadata": {},
     "output_type": "execute_result"
    }
   ],
   "source": [
    "a.set_shape()"
   ]
  },
  {
   "cell_type": "code",
   "execution_count": null,
   "metadata": {
    "collapsed": true
   },
   "outputs": [],
   "source": []
  }
 ],
 "metadata": {
  "kernelspec": {
   "display_name": "Python 2",
   "language": "python",
   "name": "python2"
  },
  "language_info": {
   "codemirror_mode": {
    "name": "ipython",
    "version": 2
   },
   "file_extension": ".py",
   "mimetype": "text/x-python",
   "name": "python",
   "nbconvert_exporter": "python",
   "pygments_lexer": "ipython2",
   "version": "2.7.11"
  }
 },
 "nbformat": 4,
 "nbformat_minor": 0
}
