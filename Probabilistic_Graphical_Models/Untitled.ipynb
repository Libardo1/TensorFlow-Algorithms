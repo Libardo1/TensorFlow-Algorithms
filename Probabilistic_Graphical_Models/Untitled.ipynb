{
 "cells": [
  {
   "cell_type": "code",
   "execution_count": 1,
   "metadata": {
    "collapsed": true
   },
   "outputs": [],
   "source": [
    "import tensorflow as tf\n",
    "import numpy as np\n",
    "from __future__ import print_function"
   ]
  },
  {
   "cell_type": "code",
   "execution_count": 2,
   "metadata": {
    "collapsed": true
   },
   "outputs": [],
   "source": [
    "def dptable(state_prob):\n",
    "    print(\" \".join((\"%10d\" % i) for i in range(state_prob.shape[0])))\n",
    "    for i, prob in enumerate(state_prob.T):\n",
    "        print(\"%.7s: \" % states[i] +\" \".join(\"%.7s\" % (\"%f\" % p) for p in prob))"
   ]
  },
  {
   "cell_type": "code",
   "execution_count": 15,
   "metadata": {
    "collapsed": false
   },
   "outputs": [],
   "source": [
    "class HiddenMarkovModel(object):\n",
    "\n",
    "    \"\"\"\n",
    "    Hidden Markov Model Class\n",
    "\n",
    "    Parameters:\n",
    "    -----------\n",
    "    \n",
    "    - S: Number of states.\n",
    "    - T: Transition matrix of size S by S\n",
    "         stores probability from state i to state j.\n",
    "    - E: Emission matrix of size S by N (number of observations)\n",
    "         stores the probability of observing  O_j  from state  S_i. \n",
    "    - T0: Initial state probabilities of size S.\n",
    "    \"\"\"\n",
    "\n",
    "    def __init__(self, T, E, T0):\n",
    "        # Number of possible states\n",
    "        self.S = T.shape[0]\n",
    "        \n",
    "        # Number of possible observations\n",
    "        self.O = E.shape[0]\n",
    "        \n",
    "        # Emission probability\n",
    "        self.E = tf.Variable(E, dtype=tf.float64, name='emission_matrix')\n",
    "\n",
    "        # Transition matrix\n",
    "        self.T = tf.Variable(T, dtype=tf.float64, name='transition_matrix')\n",
    "\n",
    "        # Initial state vector\n",
    "        self.T0 = tf.constant(T0, dtype=tf.float64, name='inital_state_vector')\n",
    "    \n",
    "    def initialize_variables(self, shape, shape_ext):\n",
    "        self.forward = tf.Variable(tf.zeros(shape, dtype=tf.float64), name='forward')\n",
    "        self.backward = tf.Variable(tf.zeros(shape_ext, dtype=tf.float64), name='backward')\n",
    "        self.posterior = tf.Variable(tf.zeros(shape, dtype=tf.float64), name='posteriror')\n",
    "\n",
    "\n",
    "    def _forward(self, obs_prob_list):\n",
    "        # initialize with state starting priors\n",
    "        init_prob = tf.mul(self.T0, tf.squeeze(obs_prob_list[0]))\n",
    "        self.forward = tf.scatter_update(self.forward, 0, init_prob)\n",
    "\n",
    "        # propagate belief\n",
    "        for step, obs_prob in enumerate(obs_prob_list[1:]):\n",
    "            # previous state probability\n",
    "            prev_prob = tf.expand_dims(self.forward[step, :], 0)\n",
    "            # transition prior\n",
    "            prior_prob = tf.matmul(prev_prob, self.T)\n",
    "            # forward belief propagation\n",
    "            forward_score = tf.mul(prior_prob, tf.squeeze(obs_prob))\n",
    "            # Normalize score into a probability\n",
    "            #forward_prob = tf.squeeze(forward_score / tf.reduce_sum(forward_score))\n",
    "            forward_prob = tf.squeeze(forward_score)\n",
    "            # Update forward matrix\n",
    "            self.forward = tf.scatter_update(self.forward, step+1, forward_prob)\n",
    "\n",
    "        # remove initial probability\n",
    "        #self.forward = tf.slice(self.forward, [1,0], [self.N, self.S]) \n",
    "        \n",
    "\n",
    "    def _backward(self, obs_prob_list):\n",
    "        # initialize with state ending priors\n",
    "        self.backward = tf.scatter_update(self.backward, 0, tf.ones([self.S], dtype=tf.float64)) \n",
    "\n",
    "        # propagate belief\n",
    "        for step, obs_prob in enumerate(obs_prob_list):\n",
    "            # next state probability\n",
    "            next_prob = tf.expand_dims(self.backward[step, :], 1)\n",
    "            # observation emission probabilities\n",
    "            obs_prob_d = tf.diag(tf.squeeze(obs_prob))\n",
    "            # transition prior\n",
    "            prior_prob = tf.matmul(self.T, obs_prob_d)\n",
    "            # backward belief propagation\n",
    "            backward_score = tf.matmul(prior_prob, next_prob)\n",
    "            # Normalize score into a probability\n",
    "            #backward_prob = tf.squeeze(backward_score / tf.reduce_sum(backward_score))\n",
    "            backward_prob = tf.squeeze(backward_score)\n",
    "\n",
    "            # Update backward matrix\n",
    "            self.backward = tf.scatter_update(self.backward, step+1, backward_prob)\n",
    "        \n",
    "        self.backward = tf.reverse(self.backward, [True, False])\n",
    "        # remove final probability\n",
    "        self.backward = tf.slice(self.backward, [0,0], [self.N, self.S])\n",
    "        \n",
    "    def _posterior(self):\n",
    "        # posterior score\n",
    "        self.posterior = tf.mul(self.forward, self.backward)\n",
    "        \n",
    "        # marginal per timestep\n",
    "        #marginal = tf.reduce_sum(self.forward[self.N-1, :], 0)\n",
    "        marginal = tf.reduce_sum(self.posterior, 1)\n",
    "#         init_prob = tf.mul(self.T0, tf.squeeze(obs_prob_list[0])) #2x1\n",
    "        \n",
    "        # Normalize porsterior into probabilities\n",
    "        self.posterior = self.posterior / tf.expand_dims(marginal, 1)       \n",
    "        \n",
    "        \n",
    "    def re_estimate_emission(self, x):\n",
    "        \n",
    "        states_marginal = tf.reduce_sum(self.posterior, 0)\n",
    "        seq_one_hot = tf.one_hot(tf.cast(x, tf.int64), self.O, 1, 0)\n",
    "        emission_score = tf.matmul(tf.cast(seq_one_hot, tf.float64), self.posterior, transpose_a=True)\n",
    "        return emission_score / states_marginal\n",
    "    \n",
    "    def re_estimate_transition(self, x):\n",
    "        \n",
    "        self.M = tf.Variable(tf.zeros((self.N-1, self.S, self.S), tf.float64))\n",
    "        \n",
    "        for t in range(self.N - 1):\n",
    "            tmp_0 = tf.matmul(tf.expand_dims(self.forward[t, :], 0), self.T)\n",
    "            tmp_1 = tf.mul(tmp_0, tf.expand_dims(tf.gather(self.E, x[t+1]), 0))\n",
    "            denom = tf.squeeze(tf.matmul(tmp_1, tf.expand_dims(self.backward[t+1, :], 1)))\n",
    "\n",
    "            trans_re_estimate = tf.Variable(tf.zeros((self.S, self.S), tf.float64))\n",
    "            for i in range(self.S):\n",
    "                numer = self.forward[t, i] * self.T[:, i] * tf.gather(self.E, x[t+1]) * self.backward[t+1, :]\n",
    "                trans_re_estimate = tf.scatter_update(trans_re_estimate, i, numer / denom)\n",
    "\n",
    "            self.M = tf.scatter_update(self.M, t, trans_re_estimate)\n",
    "            return tf.reduce_sum(self.M, 0) / tf.expand_dims(tf.reduce_sum(self.posterior, 0), 0)\n",
    "        \n",
    "    def forward_backward(self, obs_seq):\n",
    "        \"\"\"\n",
    "        runs forward backward algorithm on observation sequence\n",
    "\n",
    "        Arguments\n",
    "        ---------\n",
    "        - obs_seq : matrix of size N by S, where N is number of timesteps and\n",
    "            S is the number of states\n",
    "\n",
    "        Returns\n",
    "        -------\n",
    "        - forward : matrix of size N by S representing\n",
    "            the forward probability of each state at each time step\n",
    "        - backward : matrix of size N by S representing\n",
    "            the backward probability of each state at each time step\n",
    "        - posterior : matrix of size N by S representing\n",
    "            the posterior probability of each state at each time step\n",
    "        \"\"\"\n",
    "\n",
    "        # length of observed sequence\n",
    "        self.N = len(obs_seq)\n",
    "\n",
    "        # shape of Variables\n",
    "        shape = [self.N, self.S]\n",
    "        shape_ext = [self.N+1, self.S]\n",
    "        \n",
    "        # observed sequence\n",
    "        x = tf.constant(obs_seq, dtype=tf.int32, name='observation_sequence')\n",
    "        \n",
    "        # initialize variables\n",
    "        self.initialize_variables(shape, shape_ext)\n",
    "        \n",
    "        # probability of emission sequence\n",
    "        obs_prob_seq = tf.gather(self.E, x)\n",
    "        \n",
    "        obs_prob_list_for = tf.split(0, self.N, obs_prob_seq)\n",
    "        \n",
    "        # forward belief propagation\n",
    "        self._forward(obs_prob_list_for)\n",
    "        \n",
    "        obs_prob_seq_rev = tf.reverse(obs_prob_seq, [True, False])\n",
    "        obs_prob_list_back = tf.split(0, self.N, obs_prob_seq_rev)\n",
    "        \n",
    "        # backward belief propagation\n",
    "        self._backward(obs_prob_list_back)\n",
    "\n",
    "        # apply smoothing\n",
    "        self._posterior()\n",
    "        \n",
    "        new_emission = self.re_estimate_emission(x)\n",
    "        new_transition = self.re_estimate_transition(x)\n",
    "\n",
    "        self.E = new_emission\n",
    "        self.T = new_transition\n",
    "        return self.forward, self.backward, self.posterior, self.E, self.T\n",
    "    \n",
    "    def run_forward_backward(self, obs_seq):\n",
    "        with tf.Session() as sess:\n",
    "            \n",
    "            forward, backward, posterior, emission, trans = self.forward_backward(obs_seq)\n",
    "            sess.run(tf.initialize_all_variables())\n",
    "            return sess.run([forward, backward, posterior, emission, trans])"
   ]
  },
  {
   "cell_type": "code",
   "execution_count": 16,
   "metadata": {
    "collapsed": false
   },
   "outputs": [],
   "source": [
    "p0 = np.array([0.8, 0.2])\n",
    "\n",
    "emi = np.array([[0.3, 0.4],\n",
    "                [0.4, 0.3],\n",
    "                [0.3, 0.3]])\n",
    "\n",
    "trans = np.array([[0.6, 0.4],\n",
    "                  [0.3, 0.7]])\n",
    "\n",
    "states = {0:'S1', 1:'S2'}\n",
    "obs = {0:'R', 1:'W', 2:'B'}\n",
    "\n",
    "# {ABBA, BAB}\n",
    "obs_seq = np.array([0, 1, 2, 2])\n"
   ]
  },
  {
   "cell_type": "code",
   "execution_count": 17,
   "metadata": {
    "collapsed": false
   },
   "outputs": [
    {
     "name": "stdout",
     "output_type": "stream",
     "text": [
      "[[ 0.24       0.08     ]\n",
      " [ 0.0672     0.0456   ]\n",
      " [ 0.0162     0.01764  ]\n",
      " [ 0.0045036  0.0056484]]\n",
      "\n",
      "[[ 0.010584  0.011232]\n",
      " [ 0.0324    0.0297  ]\n",
      " [ 0.09      0.09    ]\n",
      " [ 0.3       0.3     ]]\n",
      "\n",
      "[[ 0.73869347  0.26130653]\n",
      " [ 0.61651376  0.38348624]\n",
      " [ 0.4787234   0.5212766 ]\n",
      " [ 0.44361702  0.55638298]]\n",
      "\n",
      "[[ 0.32433722  0.1517061 ]\n",
      " [ 0.27069193  0.22263968]\n",
      " [ 0.40497086  0.62565422]]\n",
      "\n",
      "[[ 0.23202165  0.1054609 ]\n",
      " [ 0.05156037  0.08202515]]\n",
      "\n"
     ]
    }
   ],
   "source": [
    "model =  HiddenMarkovModel(trans, emi, p0)\n",
    "\n",
    "results = model.run_forward_backward(obs_seq)\n",
    "for i in results:\n",
    "    print(i)\n",
    "    print()"
   ]
  },
  {
   "cell_type": "code",
   "execution_count": 18,
   "metadata": {
    "collapsed": false,
    "scrolled": false
   },
   "outputs": [],
   "source": [
    "P = np.array([[ 0.73869347,  0.26130653],\n",
    " [ 0.61651376 , 0.38348624],\n",
    " [ 0.4787234,   0.5212766 ],\n",
    " [ 0.44361702,  0.55638298]])\n",
    "\n",
    "back = np.array([[ 0.010584,  0.011232],\n",
    " [ 0.0324,    0.0297  ],\n",
    " [ 0.09 ,     0.09    ],\n",
    " [ 0.3   ,    0.3     ]])\n",
    "\n",
    "forw = np.array([[ 0.24 ,      0.08     ],\n",
    " [ 0.0672   ,  0.0456   ],\n",
    " [ 0.0162   ,  0.01764  ],\n",
    " [ 0.0045036,  0.0056484]])"
   ]
  },
  {
   "cell_type": "code",
   "execution_count": 7,
   "metadata": {
    "collapsed": true
   },
   "outputs": [],
   "source": [
    "sess = tf.InteractiveSession()"
   ]
  },
  {
   "cell_type": "code",
   "execution_count": 8,
   "metadata": {
    "collapsed": true
   },
   "outputs": [],
   "source": [
    "x = tf.constant(obs_seq, dtype=tf.int32)\n",
    "f = tf.constant(forw, dtype=tf.float64)\n",
    "b = tf.constant(back, dtype=tf.float64)\n",
    "T = tf.constant(trans, dtype=tf.float64)\n",
    "E = tf.constant(emi, dtype=tf.float64)\n",
    "P_m = tf.constant(P, dtype=tf.float64)"
   ]
  },
  {
   "cell_type": "code",
   "execution_count": 9,
   "metadata": {
    "collapsed": false
   },
   "outputs": [],
   "source": [
    "N = 4\n",
    "S = 2\n",
    "x_i = tf.Variable(tf.zeros((N-1, S, S), tf.float64))\n",
    "\n",
    "for t in range(N -1):\n",
    "    x_0 = tf.matmul(tf.expand_dims(f[t, :], 0), T)\n",
    "    x_1 = tf.mul(x_0, tf.expand_dims(tf.gather(E, x[t+1]), 0))\n",
    "    denom = tf.squeeze(tf.matmul(x_1, tf.expand_dims(b[t+1, :], 1)))\n",
    "    \n",
    "    p = tf.Variable(tf.zeros((S,S), tf.float64))\n",
    "    for i in range(S):\n",
    "        numer = f[t, i] * T[:, i] * tf.gather(E, x[t+1]) * b[t+1, :]\n",
    "        p = tf.scatter_update(p, i, numer / denom)\n",
    "    \n",
    "    x_i = tf.scatter_update(x_i, t, p)\n",
    "    new_transition = tf.reduce_sum(x_i, 0) / tf.expand_dims(tf.reduce_sum(P_m, 0), 0)"
   ]
  },
  {
   "cell_type": "code",
   "execution_count": 10,
   "metadata": {
    "collapsed": false
   },
   "outputs": [
    {
     "data": {
      "text/plain": [
       "array([[ 0.51508087,  0.2926013 ],\n",
       "       [ 0.21410922,  0.45815882]])"
      ]
     },
     "execution_count": 10,
     "metadata": {},
     "output_type": "execute_result"
    }
   ],
   "source": [
    "sess.run(tf.initialize_all_variables())\n",
    "sess.run(new_transition )"
   ]
  },
  {
   "cell_type": "code",
   "execution_count": 38,
   "metadata": {
    "collapsed": false,
    "scrolled": true
   },
   "outputs": [
    {
     "name": "stdout",
     "output_type": "stream",
     "text": [
      "0.0035316\n",
      "0.0030456\n",
      "0.0030456\n",
      "[ 0.00186624  0.00064152]\n",
      "[ 0.00041472  0.00049896]\n"
     ]
    }
   ],
   "source": [
    "N = 4\n",
    "for t in range(N -1):\n",
    "    x_0 = np.dot(forw[t, :], trans)\n",
    "    x_1 = x_0 * emi[obs_seq[t+1], :]\n",
    "    print(np.dot(x_1, back[t+1, :]))\n",
    "\n",
    "t = 0\n",
    "for i in range(2):\n",
    "    print(forw[t, i] * trans[:, i].T * emi[obs_seq[t+1], :] * back[t+1, :])"
   ]
  },
  {
   "cell_type": "code",
   "execution_count": 23,
   "metadata": {
    "collapsed": false
   },
   "outputs": [
    {
     "data": {
      "text/plain": [
       "array([ 0.6,  0.3])"
      ]
     },
     "execution_count": 23,
     "metadata": {},
     "output_type": "execute_result"
    }
   ],
   "source": [
    "trans[:, i]"
   ]
  },
  {
   "cell_type": "code",
   "execution_count": 79,
   "metadata": {
    "collapsed": false
   },
   "outputs": [
    {
     "data": {
      "text/plain": [
       "array([[ 0.32433722,  0.1517061 ],\n",
       "       [ 0.27069193,  0.22263968],\n",
       "       [ 0.40497086,  0.62565422]])"
      ]
     },
     "execution_count": 79,
     "metadata": {},
     "output_type": "execute_result"
    }
   ],
   "source": [
    "P_m = tf.constant(P)\n",
    "P_marginal = tf.reduce_sum(P_m, 0)\n",
    "x = tf.constant(obs_seq, dtype=tf.int32)\n",
    "a = tf.one_hot(tf.cast(x, tf.int64), 3, 1, 0)\n",
    "(tf.matmul(tf.cast(a, tf.float64), P_m, transpose_a=True) / P_marginal).eval()"
   ]
  },
  {
   "cell_type": "code",
   "execution_count": 13,
   "metadata": {
    "collapsed": false
   },
   "outputs": [
    {
     "data": {
      "text/plain": [
       "(array([ 2.,  0.,  0.,  0.,  2.,  2.,  2.,  2.,  0.,  0.]),\n",
       " array([ 0.,  0.,  0.,  0.,  1.,  1.,  1.,  1.,  0.,  0.]))"
      ]
     },
     "execution_count": 13,
     "metadata": {},
     "output_type": "execute_result"
    }
   ],
   "source": [
    "hmm.simulate(10)"
   ]
  },
  {
   "cell_type": "code",
   "execution_count": 2,
   "metadata": {
    "collapsed": false
   },
   "outputs": [],
   "source": [
    "from hmmestimate import HMM\n",
    "import numpy as np\n",
    "import matplotlib.pyplot as plt\n",
    "%matplotlib inline"
   ]
  },
  {
   "cell_type": "code",
   "execution_count": 3,
   "metadata": {
    "collapsed": false
   },
   "outputs": [],
   "source": [
    "np.set_printoptions(precision=3,suppress=True)"
   ]
  },
  {
   "cell_type": "code",
   "execution_count": 8,
   "metadata": {
    "collapsed": false
   },
   "outputs": [],
   "source": [
    "hmm = HMM()\n",
    "hmm.pi = np.array([0.5, 0.5])\n",
    "hmm.A = np.array([[0.85, 0.15],\n",
    "                  [0.12, 0.88]])\n",
    "hmm.B = np.array([[0.8, 0.1, 0.1],\n",
    "                  [0.0, 0.0, 1]])\n",
    "hmmguess = HMM()\n",
    "hmmguess.pi = np.array([0.5, 0.5])\n",
    "hmmguess.A = np.array([[0.5, 0.5],\n",
    "                       [0.5, 0.5]])\n",
    "hmmguess.B = np.array([[0.3, 0.3, 0.4],\n",
    "                       [0.2, 0.5, 0.3]])"
   ]
  },
  {
   "cell_type": "code",
   "execution_count": 9,
   "metadata": {
    "collapsed": false,
    "scrolled": false
   },
   "outputs": [
    {
     "name": "stdout",
     "output_type": "stream",
     "text": [
      "('Actual probabilities\\n', array([ 0.5,  0.5]))\n",
      "('Estimated initial probabilities\\n', array([ 0.,  1.]))\n",
      "('Actual state transition probabililities\\n', array([[ 0.85,  0.15],\n",
      "       [ 0.12,  0.88]]))\n",
      "('Estimated state transition probabililities\\n', array([[ 0.89 ,  0.11 ],\n",
      "       [ 0.115,  0.885]]))\n",
      "('Actual observation probabililities\\n', array([[ 0.8,  0.1,  0.1],\n",
      "       [ 0. ,  0. ,  1. ]]))\n",
      "('Estimated observation probabililities\\n', array([[ 0.677,  0.063,  0.259],\n",
      "       [ 0.   ,  0.   ,  1.   ]]))\n"
     ]
    },
    {
     "data": {
      "image/png": "[encoded data removed]",
      "text/plain": [
       "<matplotlib.figure.Figure at 0x11025db50>"
      ]
     },
     "metadata": {},
     "output_type": "display_data"
    },
    {
     "data": {
      "image/png": "[encoded data removed]",
      "text/plain": [
       "<matplotlib.figure.Figure at 0x10f253a10>"
      ]
     },
     "metadata": {},
     "output_type": "display_data"
    }
   ],
   "source": [
    "o,s = hmm.simulate(100)\n",
    "hmmguess.train(o,0.0001,graphics=True)\n",
    "\n",
    "print('Actual probabilities\\n',hmm.pi)\n",
    "print ('Estimated initial probabilities\\n',hmmguess.pi)\n",
    "\n",
    "print ('Actual state transition probabililities\\n',hmm.A)\n",
    "print ('Estimated state transition probabililities\\n',hmmguess.A)\n",
    "\n",
    "print ('Actual observation probabililities\\n',hmm.B)\n",
    "print ('Estimated observation probabililities\\n',hmmguess.B)\n",
    "\n",
    "#plt.subplot(2,1,2)\n",
    "plt.figure(figsize=(12,6))\n",
    "plt.cla()\n",
    "plt.plot(np.vstack((s*0.9+0.05,hmmguess.gamma[1,:])).T,'-o',alpha=0.7)\n",
    "plt.legend(('True State','Guessed Probability of State=1'), loc = 'center right')\n",
    "plt.ylim(-0.1,1.1)\n",
    "plt.xlabel('Time')\n",
    "plt.draw()"
   ]
  },
  {
   "cell_type": "code",
   "execution_count": null,
   "metadata": {
    "collapsed": true
   },
   "outputs": [],
   "source": []
  }
 ],
 "metadata": {
  "kernelspec": {
   "display_name": "Python 2",
   "language": "python",
   "name": "python2"
  },
  "language_info": {
   "codemirror_mode": {
    "name": "ipython",
    "version": 2
   },
   "file_extension": ".py",
   "mimetype": "text/x-python",
   "name": "python",
   "nbconvert_exporter": "python",
   "pygments_lexer": "ipython2",
   "version": "2.7.11"
  }
 },
 "nbformat": 4,
 "nbformat_minor": 0
}
