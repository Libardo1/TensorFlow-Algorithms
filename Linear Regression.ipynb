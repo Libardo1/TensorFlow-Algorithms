{
 "cells": [
  {
   "cell_type": "markdown",
   "metadata": {},
   "source": [
    "# Linear Regression in TensorFlow"
   ]
  },
  {
   "cell_type": "code",
   "execution_count": 2,
   "metadata": {
    "collapsed": false
   },
   "outputs": [],
   "source": [
    "import tensorflow as tf\n",
    "import numpy\n",
    "import matplotlib.pyplot as plt\n",
    "%matplotlib inline\n",
    "rng = numpy.random"
   ]
  },
  {
   "cell_type": "markdown",
   "metadata": {},
   "source": [
    "### Parameters"
   ]
  },
  {
   "cell_type": "code",
   "execution_count": 3,
   "metadata": {
    "collapsed": true
   },
   "outputs": [],
   "source": [
    "learning_rate = 0.01\n",
    "training_epochs = 2000\n",
    "display_step = 50"
   ]
  },
  {
   "cell_type": "markdown",
   "metadata": {},
   "source": [
    "### Training Data"
   ]
  },
  {
   "cell_type": "code",
   "execution_count": 4,
   "metadata": {
    "collapsed": true
   },
   "outputs": [],
   "source": [
    "train_X = numpy.asarray([3.3,4.4,5.5,6.71,6.93,4.168,9.779,6.182,7.59,2.167,7.042,10.791,5.313,7.997,5.654,9.27,3.1])\n",
    "train_Y = numpy.asarray([1.7,2.76,2.09,3.19,1.694,1.573,3.366,2.596,2.53,1.221,2.827,3.465,1.65,2.904,2.42,2.94,1.3])\n",
    "n_samples = train_X.shape[0]"
   ]
  },
  {
   "cell_type": "markdown",
   "metadata": {},
   "source": [
    "### TensorFlow Graph Input"
   ]
  },
  {
   "cell_type": "code",
   "execution_count": 5,
   "metadata": {
    "collapsed": true
   },
   "outputs": [],
   "source": [
    "X = tf.placeholder(tf.float32)\n",
    "Y = tf.placeholder(tf.float32)"
   ]
  },
  {
   "cell_type": "markdown",
   "metadata": {},
   "source": [
    "# Create Model\n",
    "\n",
    "### Set model weights"
   ]
  },
  {
   "cell_type": "code",
   "execution_count": 6,
   "metadata": {
    "collapsed": true
   },
   "outputs": [],
   "source": [
    "W = tf.Variable(rng.randn(), name = \"weight\")\n",
    "b = tf.Variable(rng.randn(), name = \"bias\")"
   ]
  },
  {
   "cell_type": "markdown",
   "metadata": {},
   "source": [
    "### Construct a linear model"
   ]
  },
  {
   "cell_type": "code",
   "execution_count": 7,
   "metadata": {
    "collapsed": true
   },
   "outputs": [],
   "source": [
    "activation = tf.add(tf.mul(X, W), b)"
   ]
  },
  {
   "cell_type": "markdown",
   "metadata": {},
   "source": [
    "### Minimize the squared errors"
   ]
  },
  {
   "cell_type": "code",
   "execution_count": 8,
   "metadata": {
    "collapsed": false
   },
   "outputs": [],
   "source": [
    "cost = tf.reduce_sum(tf.pow(activation - Y, 2)) / (2 * n_samples) # L2 loss\n",
    "optimizer = tf.train.GradientDescentOptimizer(learning_rate).minimize(cost)"
   ]
  },
  {
   "cell_type": "markdown",
   "metadata": {},
   "source": [
    "### Initializing the variables"
   ]
  },
  {
   "cell_type": "code",
   "execution_count": 9,
   "metadata": {
    "collapsed": true
   },
   "outputs": [],
   "source": [
    "init = tf.initialize_all_variables()"
   ]
  },
  {
   "cell_type": "markdown",
   "metadata": {},
   "source": [
    "### Launch the graph"
   ]
  },
  {
   "cell_type": "code",
   "execution_count": 10,
   "metadata": {
    "collapsed": false
   },
   "outputs": [
    {
     "name": "stdout",
     "output_type": "stream",
     "text": [
      "Epoch: 1\n",
      "cost = 0.250585556   W = 0.267963498831   b = 1.28518235683\n",
      "Epoch: 51\n",
      "cost = 0.089279763   W = 0.187917649746   b = 1.24515879154\n",
      "Epoch: 101\n",
      "cost = 0.087866560   W = 0.191585943103   b = 1.2187691927\n",
      "Epoch: 151\n",
      "cost = 0.086616270   W = 0.195035770535   b = 1.19395136833\n",
      "Epoch: 201\n",
      "cost = 0.085510001   W = 0.198280334473   b = 1.17061042786\n",
      "Epoch: 251\n",
      "cost = 0.084531143   W = 0.201331913471   b = 1.14865744114\n",
      "Epoch: 301\n",
      "cost = 0.083665028   W = 0.204201921821   b = 1.12801086903\n",
      "Epoch: 351\n",
      "cost = 0.082898512   W = 0.206901580095   b = 1.10858988762\n",
      "Epoch: 401\n",
      "cost = 0.082220346   W = 0.209440350533   b = 1.09032583237\n",
      "Epoch: 451\n",
      "cost = 0.081620157   W = 0.211828365922   b = 1.07314693928\n",
      "Epoch: 501\n",
      "cost = 0.081089035   W = 0.214074403048   b = 1.05698895454\n",
      "Epoch: 551\n",
      "cost = 0.080618970   W = 0.216186985373   b = 1.04179108143\n",
      "Epoch: 601\n",
      "cost = 0.080203019   W = 0.218173921108   b = 1.02749752998\n",
      "Epoch: 651\n",
      "cost = 0.079834893   W = 0.220042601228   b = 1.01405405998\n",
      "Epoch: 701\n",
      "cost = 0.079509087   W = 0.221800088882   b = 1.00141060352\n",
      "Epoch: 751\n",
      "cost = 0.079220787   W = 0.223453298211   b = 0.989518105984\n",
      "Epoch: 801\n",
      "cost = 0.078965582   W = 0.225007981062   b = 0.978333353996\n",
      "Epoch: 851\n",
      "cost = 0.078739695   W = 0.22647036612   b = 0.967813014984\n",
      "Epoch: 901\n",
      "cost = 0.078539751   W = 0.227845743299   b = 0.957918703556\n",
      "Epoch: 951\n",
      "cost = 0.078362793   W = 0.229139238596   b = 0.948613584042\n",
      "Epoch: 1001\n",
      "cost = 0.078206159   W = 0.230355724692   b = 0.9398624897\n",
      "Epoch: 1051\n",
      "cost = 0.078067504   W = 0.231499686837   b = 0.931632637978\n",
      "Epoch: 1101\n",
      "cost = 0.077944778   W = 0.232575640082   b = 0.923892199993\n",
      "Epoch: 1151\n",
      "cost = 0.077836074   W = 0.233587890863   b = 0.91661041975\n",
      "Epoch: 1201\n",
      "cost = 0.077739865   W = 0.234539747238   b = 0.909762918949\n",
      "Epoch: 1251\n",
      "cost = 0.077654675   W = 0.235435023904   b = 0.903322100639\n",
      "Epoch: 1301\n",
      "cost = 0.077579238   W = 0.236277043819   b = 0.897264838219\n",
      "Epoch: 1351\n",
      "cost = 0.077512443   W = 0.237068980932   b = 0.891567766666\n",
      "Epoch: 1401\n",
      "cost = 0.077453278   W = 0.237813800573   b = 0.88620942831\n",
      "Epoch: 1451\n",
      "cost = 0.077400863   W = 0.238514363766   b = 0.881169497967\n",
      "Epoch: 1501\n",
      "cost = 0.077354468   W = 0.239173278213   b = 0.876429498196\n",
      "Epoch: 1551\n",
      "cost = 0.077313371   W = 0.2397929281   b = 0.871971845627\n",
      "Epoch: 1601\n",
      "cost = 0.077276960   W = 0.240375757217   b = 0.867778778076\n",
      "Epoch: 1651\n",
      "cost = 0.077244699   W = 0.240924105048   b = 0.863833963871\n",
      "Epoch: 1701\n",
      "cost = 0.077216126   W = 0.241439670324   b = 0.860124826431\n",
      "Epoch: 1751\n",
      "cost = 0.077190787   W = 0.241924777627   b = 0.856635332108\n",
      "Epoch: 1801\n",
      "cost = 0.077168338   W = 0.242380812764   b = 0.853354871273\n",
      "Epoch: 1851\n",
      "cost = 0.077148438   W = 0.242809861898   b = 0.85026794672\n",
      "Epoch: 1901\n",
      "cost = 0.077130809   W = 0.243213310838   b = 0.847365617752\n",
      "Epoch: 1951\n",
      "cost = 0.077115171   W = 0.243592843413   b = 0.844635248184\n",
      "Optimization Finished!\n",
      "cost = 0.077101581   W = 0.243942797184   b = 0.842117667198\n"
     ]
    },
    {
     "data": {
      "image/png": "[encoded data removed]",
      "text/plain": [
       "<matplotlib.figure.Figure at 0x108cf8b90>"
      ]
     },
     "metadata": {},
     "output_type": "display_data"
    }
   ],
   "source": [
    "with tf.Session() as sess:\n",
    "    sess.run(init)\n",
    "    \n",
    "    for epoch in range(training_epochs):\n",
    "        for (x, y) in zip(train_X, train_Y):\n",
    "            sess.run(optimizer, feed_dict = {X: x, Y: y})\n",
    "            \n",
    "        if epoch % display_step == 0:\n",
    "            print \"Epoch: {}\".format(epoch+1)\n",
    "            ct = sess.run(cost, feed_dict={X: train_X, Y:train_Y})\n",
    "            print \"cost = {:.9f}   W = {}   b = {}\".format(ct, sess.run(W), sess.run(b))\n",
    "            \n",
    "    print \"Optimization Finished!\"\n",
    "    ct = sess.run(cost, feed_dict = {X: train_X, Y: train_Y})\n",
    "    print \"cost = {:.9f}   W = {}   b = {}\".format(ct, sess.run(W), sess.run(b))\n",
    "\n",
    "    #Graphic display\n",
    "    plt.plot(train_X, train_Y, 'ro', label='Original data')\n",
    "    plt.plot(train_X, sess.run(W) * train_X + sess.run(b), label='Fitted line')\n",
    "    plt.legend()\n",
    "    plt.show()            "
   ]
  },
  {
   "cell_type": "code",
   "execution_count": 13,
   "metadata": {
    "collapsed": false
   },
   "outputs": [
    {
     "data": {
      "image/png": "[encoded data removed]",
      "text/plain": [
       "<matplotlib.figure.Figure at 0x10bf111d0>"
      ]
     },
     "metadata": {},
     "output_type": "display_data"
    }
   ],
   "source": [
    "# %% Let's create some toy data\n",
    "import numpy as np\n",
    "plt.ion()\n",
    "n_observations = 100\n",
    "fig, ax = plt.subplots(1, 1)\n",
    "xs = np.linspace(-3, 3, n_observations)\n",
    "ys = np.sin(xs) + np.random.uniform(-0.5, 0.5, n_observations)\n",
    "ax.scatter(xs, ys)\n",
    "fig.show()\n",
    "plt.draw()"
   ]
  },
  {
   "cell_type": "code",
   "execution_count": 14,
   "metadata": {
    "collapsed": true
   },
   "outputs": [],
   "source": [
    "# %% tf.placeholders for the input and output of the network. Placeholders are\n",
    "# variables which we need to fill in when we are ready to compute the graph.\n",
    "X = tf.placeholder(tf.float32)\n",
    "Y = tf.placeholder(tf.float32)"
   ]
  },
  {
   "cell_type": "code",
   "execution_count": 15,
   "metadata": {
    "collapsed": true
   },
   "outputs": [],
   "source": [
    "W = tf.Variable(tf.random_normal([1]), name='weight')\n",
    "b = tf.Variable(tf.random_normal([1]), name='bias')\n",
    "Y_pred = tf.add(tf.mul(X, W), b)"
   ]
  },
  {
   "cell_type": "code",
   "execution_count": 16,
   "metadata": {
    "collapsed": true
   },
   "outputs": [],
   "source": [
    "cost = tf.reduce_sum(tf.pow(Y_pred - Y, 2)) / (n_observations - 1)"
   ]
  },
  {
   "cell_type": "code",
   "execution_count": 17,
   "metadata": {
    "collapsed": true
   },
   "outputs": [],
   "source": [
    "cost = tf.add(cost, tf.mul(1e-6, tf.global_norm([W])))"
   ]
  },
  {
   "cell_type": "code",
   "execution_count": 18,
   "metadata": {
    "collapsed": true
   },
   "outputs": [],
   "source": [
    "# %% Use gradient descent to optimize W,b\n",
    "# Performs a single step in the negative gradient\n",
    "learning_rate = 0.01\n",
    "optimizer = tf.train.GradientDescentOptimizer(learning_rate).minimize(cost)"
   ]
  },
  {
   "cell_type": "code",
   "execution_count": 22,
   "metadata": {
    "collapsed": false,
    "scrolled": false
   },
   "outputs": [
    {
     "name": "stdout",
     "output_type": "stream",
     "text": [
      "7.48252\n",
      "6.64661\n",
      "5.90785\n",
      "5.25493\n",
      "4.67787\n",
      "4.16785\n",
      "3.71706\n",
      "3.31862\n",
      "2.96644\n",
      "2.65515\n",
      "2.37998\n",
      "2.13675\n",
      "1.92173\n",
      "1.73164\n",
      "1.5636\n",
      "1.41503\n",
      "1.28367\n",
      "1.16753\n",
      "1.06483\n",
      "0.974016\n",
      "0.893705\n",
      "0.822678\n",
      "0.759857\n",
      "0.704289\n",
      "0.655133\n",
      "0.611644\n",
      "0.573167\n",
      "0.539118\n",
      "0.508984\n",
      "0.482313\n",
      "0.458703\n",
      "0.437799\n",
      "0.419288\n",
      "0.402893\n",
      "0.38837\n",
      "0.375502\n",
      "0.364097\n",
      "0.353988\n",
      "0.345024\n",
      "0.337073\n",
      "0.330019\n",
      "0.323759\n",
      "0.318201\n",
      "0.313264\n",
      "0.308878\n",
      "0.304978\n",
      "0.30151\n",
      "0.298424\n",
      "0.295677\n",
      "0.293229\n",
      "0.291047\n",
      "0.289101\n",
      "0.287364\n",
      "0.285811\n",
      "0.284424\n",
      "0.283182\n",
      "0.282069\n",
      "0.281072\n"
     ]
    },
    {
     "data": {
      "text/plain": [
       "<matplotlib.figure.Figure at 0x10c912e90>"
      ]
     },
     "metadata": {},
     "output_type": "display_data"
    }
   ],
   "source": [
    "# %% We create a session to use the graph\n",
    "n_epochs = 100\n",
    "with tf.Session() as sess:\n",
    "    # Here we tell tensorflow that we want to initialize all\n",
    "    # the variables in the graph so we can use them\n",
    "    sess.run(tf.initialize_all_variables())\n",
    "\n",
    "    # Fit all training data\n",
    "    prev_training_cost = 0.0\n",
    "    for epoch_i in range(n_epochs):\n",
    "        for (x, y) in zip(xs, ys):\n",
    "            sess.run(optimizer, feed_dict={X: x, Y: y})\n",
    "\n",
    "        training_cost = sess.run(\n",
    "            cost, feed_dict={X: xs, Y: ys})\n",
    "        print(training_cost)\n",
    "\n",
    "        if epoch_i % 20 == 0:\n",
    "            ax.plot(xs, Y_pred.eval(\n",
    "                feed_dict={X: xs}, session=sess),\n",
    "                    'k', alpha=epoch_i / n_epochs)\n",
    "            fig.show()\n",
    "            plt.draw()\n",
    "\n",
    "        # Allow the training to quit if we've reached a minimum\n",
    "        if np.abs(prev_training_cost - training_cost) < 0.001:\n",
    "            break\n",
    "        prev_training_cost = training_cost\n",
    "fig.show()\n",
    "#plt.waitforbuttonpress()  "
   ]
  },
  {
   "cell_type": "code",
   "execution_count": 2,
   "metadata": {
    "collapsed": true
   },
   "outputs": [],
   "source": [
    "import tensorflow as tf\n",
    "import numpy as np"
   ]
  },
  {
   "cell_type": "code",
   "execution_count": 1,
   "metadata": {
    "collapsed": false
   },
   "outputs": [
    {
     "name": "stdout",
     "output_type": "stream",
     "text": [
      "Successfully downloaded train-images-idx3-ubyte.gz 9912422 bytes.\n",
      "Extracting MNIST_data/train-images-idx3-ubyte.gz\n",
      "Successfully downloaded train-labels-idx1-ubyte.gz 28881 bytes.\n",
      "Extracting MNIST_data/train-labels-idx1-ubyte.gz\n",
      "Successfully downloaded t10k-images-idx3-ubyte.gz 1648877 bytes.\n",
      "Extracting MNIST_data/t10k-images-idx3-ubyte.gz\n",
      "Successfully downloaded t10k-labels-idx1-ubyte.gz 4542 bytes.\n",
      "Extracting MNIST_data/t10k-labels-idx1-ubyte.gz\n"
     ]
    }
   ],
   "source": [
    "from tensorflow.examples.tutorials.mnist import input_data\n",
    "mnist = input_data.read_data_sets(\"MNIST_data/\", one_hot=True)"
   ]
  },
  {
   "cell_type": "code",
   "execution_count": 3,
   "metadata": {
    "collapsed": true
   },
   "outputs": [],
   "source": [
    "x = tf.placeholder(tf.float32, shape=[None, 784]) # None mean dimension can be of any length"
   ]
  },
  {
   "cell_type": "code",
   "execution_count": 4,
   "metadata": {
    "collapsed": true
   },
   "outputs": [],
   "source": [
    "W = tf.Variable(tf.zeros([784, 10]))\n",
    "b = tf.Variable(tf.zeros([10]))"
   ]
  },
  {
   "cell_type": "code",
   "execution_count": 7,
   "metadata": {
    "collapsed": true
   },
   "outputs": [],
   "source": [
    "y = tf.nn.softmax(tf.matmul(x, W) + b)\n",
    "y_target = tf.placeholder(tf.float32, shape=[None, 10])"
   ]
  },
  {
   "cell_type": "code",
   "execution_count": 8,
   "metadata": {
    "collapsed": true
   },
   "outputs": [],
   "source": [
    "cross_entropy = - tf.reduce_sum(y_target*tf.log(y))"
   ]
  },
  {
   "cell_type": "code",
   "execution_count": 27,
   "metadata": {
    "collapsed": true
   },
   "outputs": [],
   "source": [
    "train_step = tf.train.AdamOptimizer(0.01).minimize(cross_entropy)"
   ]
  },
  {
   "cell_type": "code",
   "execution_count": 28,
   "metadata": {
    "collapsed": true
   },
   "outputs": [],
   "source": [
    "init = tf.initialize_all_variables()\n",
    "sess = tf.Session()\n",
    "sess.run(init)"
   ]
  },
  {
   "cell_type": "code",
   "execution_count": 29,
   "metadata": {
    "collapsed": true
   },
   "outputs": [],
   "source": [
    "for i in xrange(1000):\n",
    "    batch_xs, batch_ys = mnist.train.next_batch(100)\n",
    "    sess.run(train_step, feed_dict={x: batch_xs, y_target: batch_ys})"
   ]
  },
  {
   "cell_type": "code",
   "execution_count": 30,
   "metadata": {
    "collapsed": false
   },
   "outputs": [
    {
     "data": {
      "text/plain": [
       "0.91339999"
      ]
     },
     "execution_count": 30,
     "metadata": {},
     "output_type": "execute_result"
    }
   ],
   "source": [
    "corr_pred = tf.equal(tf.argmax(y,1), tf.argmax(y_target,1))\n",
    "accuracy = tf.reduce_mean(tf.cast(corr_pred, tf.float32))\n",
    "sess.run(accuracy, feed_dict={x: mnist.test.images, y_target: mnist.test.labels})"
   ]
  },
  {
   "cell_type": "code",
   "execution_count": null,
   "metadata": {
    "collapsed": true
   },
   "outputs": [],
   "source": []
  },
  {
   "cell_type": "code",
   "execution_count": null,
   "metadata": {
    "collapsed": true
   },
   "outputs": [],
   "source": []
  }
 ],
 "metadata": {
  "kernelspec": {
   "display_name": "Python 2",
   "language": "python",
   "name": "python2"
  },
  "language_info": {
   "codemirror_mode": {
    "name": "ipython",
    "version": 2
   },
   "file_extension": ".py",
   "mimetype": "text/x-python",
   "name": "python",
   "nbconvert_exporter": "python",
   "pygments_lexer": "ipython2",
   "version": "2.7.11"
  }
 },
 "nbformat": 4,
 "nbformat_minor": 0
}
