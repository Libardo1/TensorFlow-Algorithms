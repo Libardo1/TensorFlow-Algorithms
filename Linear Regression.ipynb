{
 "cells": [
  {
   "cell_type": "markdown",
   "metadata": {},
   "source": [
    "# Linear Regression in TensorFlow"
   ]
  },
  {
   "cell_type": "code",
   "execution_count": 54,
   "metadata": {
    "collapsed": false
   },
   "outputs": [],
   "source": [
    "import tensorflow as tf\n",
    "import numpy\n",
    "import matplotlib.pyplot as plt\n",
    "%matplotlib inline\n",
    "rng = numpy.random"
   ]
  },
  {
   "cell_type": "markdown",
   "metadata": {},
   "source": [
    "### Parameters"
   ]
  },
  {
   "cell_type": "code",
   "execution_count": 55,
   "metadata": {
    "collapsed": true
   },
   "outputs": [],
   "source": [
    "learning_rate = 0.01\n",
    "training_epochs = 2000\n",
    "display_step = 50"
   ]
  },
  {
   "cell_type": "markdown",
   "metadata": {},
   "source": [
    "### Training Data"
   ]
  },
  {
   "cell_type": "code",
   "execution_count": 56,
   "metadata": {
    "collapsed": true
   },
   "outputs": [],
   "source": [
    "train_X = numpy.asarray([3.3,4.4,5.5,6.71,6.93,4.168,9.779,6.182,7.59,2.167,7.042,10.791,5.313,7.997,5.654,9.27,3.1])\n",
    "train_Y = numpy.asarray([1.7,2.76,2.09,3.19,1.694,1.573,3.366,2.596,2.53,1.221,2.827,3.465,1.65,2.904,2.42,2.94,1.3])\n",
    "n_samples = train_X.shape[0]"
   ]
  },
  {
   "cell_type": "markdown",
   "metadata": {},
   "source": [
    "### TensorFlow Graph Input"
   ]
  },
  {
   "cell_type": "code",
   "execution_count": 57,
   "metadata": {
    "collapsed": true
   },
   "outputs": [],
   "source": [
    "X = tf.placeholder(tf.float32)\n",
    "Y = tf.placeholder(tf.float32)"
   ]
  },
  {
   "cell_type": "markdown",
   "metadata": {},
   "source": [
    "# Create Model\n",
    "\n",
    "### Set model weights"
   ]
  },
  {
   "cell_type": "code",
   "execution_count": 58,
   "metadata": {
    "collapsed": true
   },
   "outputs": [],
   "source": [
    "W = tf.Variable(rng.randn(), name = \"weight\")\n",
    "b = tf.Variable(rng.randn(), name = \"bias\")"
   ]
  },
  {
   "cell_type": "markdown",
   "metadata": {},
   "source": [
    "### Construct a linear model"
   ]
  },
  {
   "cell_type": "code",
   "execution_count": 59,
   "metadata": {
    "collapsed": true
   },
   "outputs": [],
   "source": [
    "activation = tf.add(tf.mul(X, W), b)"
   ]
  },
  {
   "cell_type": "markdown",
   "metadata": {},
   "source": [
    "### Minimize the squared errors"
   ]
  },
  {
   "cell_type": "code",
   "execution_count": 60,
   "metadata": {
    "collapsed": false
   },
   "outputs": [],
   "source": [
    "cost = tf.reduce_sum(tf.pow(activation - Y, 2)) / (2 * n_samples) # L2 loss\n",
    "optimizer = tf.train.GradientDescentOptimizer(learning_rate).minimize(cost)"
   ]
  },
  {
   "cell_type": "markdown",
   "metadata": {},
   "source": [
    "### Initializing the variables"
   ]
  },
  {
   "cell_type": "code",
   "execution_count": 61,
   "metadata": {
    "collapsed": true
   },
   "outputs": [],
   "source": [
    "init = tf.initialize_all_variables()"
   ]
  },
  {
   "cell_type": "markdown",
   "metadata": {},
   "source": [
    "### Launch the graph"
   ]
  },
  {
   "cell_type": "code",
   "execution_count": 62,
   "metadata": {
    "collapsed": false
   },
   "outputs": [
    {
     "name": "stdout",
     "output_type": "stream",
     "text": [
      "Epoch: 1\n",
      "cost = 3.493549585   W = -0.0417965613306   b = 0.104433812201\n",
      "Epoch: 51\n",
      "cost = 0.099508494   W = 0.333628118038   b = 0.196927830577\n",
      "Epoch: 101\n",
      "cost = 0.096902639   W = 0.328630208969   b = 0.232882708311\n",
      "Epoch: 151\n",
      "cost = 0.094597951   W = 0.323929488659   b = 0.266699194908\n",
      "Epoch: 201\n",
      "cost = 0.092559651   W = 0.319508314133   b = 0.298504650593\n",
      "Epoch: 251\n",
      "cost = 0.090756983   W = 0.315350204706   b = 0.328417956829\n",
      "Epoch: 301\n",
      "cost = 0.089162730   W = 0.311439454556   b = 0.356552183628\n",
      "Epoch: 351\n",
      "cost = 0.087752759   W = 0.30776104331   b = 0.383013486862\n",
      "Epoch: 401\n",
      "cost = 0.086505830   W = 0.30430161953   b = 0.407900899649\n",
      "Epoch: 451\n",
      "cost = 0.085403107   W = 0.301047861576   b = 0.431307941675\n",
      "Epoch: 501\n",
      "cost = 0.084427923   W = 0.297987610102   b = 0.45332339406\n",
      "Epoch: 551\n",
      "cost = 0.083565511   W = 0.295109272003   b = 0.47402960062\n",
      "Epoch: 601\n",
      "cost = 0.082802936   W = 0.292402327061   b = 0.493503332138\n",
      "Epoch: 651\n",
      "cost = 0.082128592   W = 0.289856284857   b = 0.511819005013\n",
      "Epoch: 701\n",
      "cost = 0.081532277   W = 0.287461787462   b = 0.529045283794\n",
      "Epoch: 751\n",
      "cost = 0.081004940   W = 0.285209566355   b = 0.545247793198\n",
      "Epoch: 801\n",
      "cost = 0.080538668   W = 0.283091187477   b = 0.560487091541\n",
      "Epoch: 851\n",
      "cost = 0.080126368   W = 0.281098812819   b = 0.574820041656\n",
      "Epoch: 901\n",
      "cost = 0.079761840   W = 0.279224961996   b = 0.588300406933\n",
      "Epoch: 951\n",
      "cost = 0.079439513   W = 0.277462273836   b = 0.600980639458\n",
      "Epoch: 1001\n",
      "cost = 0.079154536   W = 0.275804698467   b = 0.612905561924\n",
      "Epoch: 1051\n",
      "cost = 0.078902662   W = 0.274246037006   b = 0.624118387699\n",
      "Epoch: 1101\n",
      "cost = 0.078679964   W = 0.272779911757   b = 0.634665429592\n",
      "Epoch: 1151\n",
      "cost = 0.078483082   W = 0.271401166916   b = 0.644584417343\n",
      "Epoch: 1201\n",
      "cost = 0.078309037   W = 0.270104110241   b = 0.653914988041\n",
      "Epoch: 1251\n",
      "cost = 0.078155197   W = 0.268884330988   b = 0.662690401077\n",
      "Epoch: 1301\n",
      "cost = 0.078019187   W = 0.267737030983   b = 0.670943677425\n",
      "Epoch: 1351\n",
      "cost = 0.077899016   W = 0.266658037901   b = 0.678706109524\n",
      "Epoch: 1401\n",
      "cost = 0.077792764   W = 0.265643268824   b = 0.686006486416\n",
      "Epoch: 1451\n",
      "cost = 0.077698879   W = 0.264688700438   b = 0.692873418331\n",
      "Epoch: 1501\n",
      "cost = 0.077615879   W = 0.263790905476   b = 0.69933193922\n",
      "Epoch: 1551\n",
      "cost = 0.077542551   W = 0.262946546078   b = 0.705406427383\n",
      "Epoch: 1601\n",
      "cost = 0.077477746   W = 0.262152284384   b = 0.711119771004\n",
      "Epoch: 1651\n",
      "cost = 0.077420495   W = 0.26140537858   b = 0.716493368149\n",
      "Epoch: 1701\n",
      "cost = 0.077369899   W = 0.260702759027   b = 0.721547782421\n",
      "Epoch: 1751\n",
      "cost = 0.077325210   W = 0.26004204154   b = 0.72630161047\n",
      "Epoch: 1801\n",
      "cost = 0.077285737   W = 0.259420514107   b = 0.730772256851\n",
      "Epoch: 1851\n",
      "cost = 0.077250868   W = 0.258835941553   b = 0.734977543354\n",
      "Epoch: 1901\n",
      "cost = 0.077220052   W = 0.258286118507   b = 0.738932907581\n",
      "Epoch: 1951\n",
      "cost = 0.077192873   W = 0.257769137621   b = 0.742652058601\n",
      "Optimization Finished!\n",
      "cost = 0.077169329   W = 0.257292151451   b = 0.746083796024\n"
     ]
    },
    {
     "data": {
      "image/png": "[encoded data removed]",
      "text/plain": [
       "<matplotlib.figure.Figure at 0x1089d68d0>"
      ]
     },
     "metadata": {},
     "output_type": "display_data"
    }
   ],
   "source": [
    "with tf.Session() as sess:\n",
    "    sess.run(init)\n",
    "    \n",
    "    for epoch in range(training_epochs):\n",
    "        for (x, y) in zip(train_X, train_Y):\n",
    "            sess.run(optimizer, feed_dict = {X: x, Y: y})\n",
    "            \n",
    "        if epoch % display_step == 0:\n",
    "            print \"Epoch: {}\".format(epoch+1)\n",
    "            ct = sess.run(cost, feed_dict={X: train_X, Y:train_Y})\n",
    "            print \"cost = {:.9f}   W = {}   b = {}\".format(ct, sess.run(W), sess.run(b))\n",
    "            \n",
    "    print \"Optimization Finished!\"\n",
    "    ct = sess.run(cost, feed_dict = {X: train_X, Y: train_Y})\n",
    "    print \"cost = {:.9f}   W = {}   b = {}\".format(ct, sess.run(W), sess.run(b))\n",
    "\n",
    "    #Graphic display\n",
    "    plt.plot(train_X, train_Y, 'ro', label='Original data')\n",
    "    plt.plot(train_X, sess.run(W) * train_X + sess.run(b), label='Fitted line')\n",
    "    plt.legend()\n",
    "    plt.show()            "
   ]
  }
 ],
 "metadata": {
  "kernelspec": {
   "display_name": "Python 2",
   "language": "python",
   "name": "python2"
  },
  "language_info": {
   "codemirror_mode": {
    "name": "ipython",
    "version": 2
   },
   "file_extension": ".py",
   "mimetype": "text/x-python",
   "name": "python",
   "nbconvert_exporter": "python",
   "pygments_lexer": "ipython2",
   "version": "2.7.11"
  }
 },
 "nbformat": 4,
 "nbformat_minor": 0
}
