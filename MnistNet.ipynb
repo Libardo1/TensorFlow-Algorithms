{
 "cells": [
  {
   "cell_type": "markdown",
   "metadata": {},
   "source": [
    "# Convolutional Neural Network with Mnist Dataset"
   ]
  },
  {
   "cell_type": "code",
   "execution_count": 1,
   "metadata": {
    "collapsed": true
   },
   "outputs": [],
   "source": [
    "import tensorflow as tf\n",
    "import numpy as np\n",
    "from __future__ import absolute_import\n",
    "from __future__ import division\n",
    "from __future__ import print_function\n",
    "import math\n",
    "from six.moves import xrange\n",
    "import os.path\n",
    "import time\n",
    "\n",
    "from tensorflow.examples.tutorials.mnist import input_data"
   ]
  },
  {
   "cell_type": "code",
   "execution_count": 2,
   "metadata": {
    "collapsed": true
   },
   "outputs": [],
   "source": [
    "# The MNIST dataset has 10 classes, representing the digits 0 through 9.\n",
    "NUM_CLASSES = 10\n",
    "\n",
    "# The MNIST images are always 28x28 pixels.\n",
    "IMAGE_SIZE = 28\n",
    "#IMAGE_PIXELS = IMAGE_SIZE * IMAGE_SIZE\n",
    "IMAGE_SHAPE = [28, 28, 1]"
   ]
  },
  {
   "cell_type": "code",
   "execution_count": 3,
   "metadata": {
    "collapsed": true
   },
   "outputs": [],
   "source": [
    "with tf.name_scope('conv1'):\n",
    "    a = tf.Variable([1,2], name='biases')\n",
    "with tf.name_scope('conv2'):\n",
    "    a = tf.Variable([1,2], name='biases')\n",
    "    b = tf.Variable([1,2], name='biases')"
   ]
  },
  {
   "cell_type": "code",
   "execution_count": 4,
   "metadata": {
    "collapsed": false
   },
   "outputs": [
    {
     "name": "stdout",
     "output_type": "stream",
     "text": [
      "conv2/biases:0\n",
      "conv2/biases_1:0\n"
     ]
    }
   ],
   "source": [
    "print(a.name)\n",
    "print(b.name)"
   ]
  },
  {
   "cell_type": "code",
   "execution_count": 8,
   "metadata": {
    "collapsed": false
   },
   "outputs": [
    {
     "data": {
      "text/plain": [
       "<tf.Tensor 'Max:0' shape=() dtype=int32>"
      ]
     },
     "execution_count": 8,
     "metadata": {},
     "output_type": "execute_result"
    }
   ],
   "source": [
    "tf.reduce_max([2,3,4])"
   ]
  },
  {
   "cell_type": "code",
   "execution_count": 15,
   "metadata": {
    "collapsed": true
   },
   "outputs": [],
   "source": [
    "def _inference(images):\n",
    "    \"\"\"Build MNIST model\n",
    "    \n",
    "    Args:\n",
    "    images: Images placeholder, from inputs().\n",
    "    hidden1_units: Size of the first hidden layer.\n",
    "    hidden2_units: Size of the second hidden layer.\n",
    "    \n",
    "    Returns:\n",
    "    softmax_linear: Output tensor with the computed logits.\n",
    "    \"\"\"\n",
    "    \n",
    "    def weight_variable(shape, layer):\n",
    "        initial = tf.truncated_normal(shape,\n",
    "                                      stddev=1.0 / math.sqrt(float(shape[0])))\n",
    "        return tf.Variable(initial, name=layer+'/weights')\n",
    "\n",
    "    def bias_variable(shape, layer):\n",
    "        #initial = tf.zeros(shape)\n",
    "        initial = tf.constant(0.1, shape=shape) # prevent dead neural on initialization\n",
    "        return tf.Variable(initial, name=layer+'/biases')\n",
    "    \n",
    "    def conv2d(x, W, layer):\n",
    "        return tf.nn.conv2d(x, W, strides=[1, 1, 1, 1], padding='SAME', name=layer+'/activation') # maintain layer size\n",
    "\n",
    "    def activation_relu(activation, bias, layer):\n",
    "        return tf.nn.relu(activation + bias, name =layer+'/activation_relu')\n",
    "    \n",
    "    def max_pool_2x2(x, layer):\n",
    "        return tf.nn.max_pool(x, ksize=[1, 2, 2, 1],strides=[1, 2, 2, 1], padding='SAME', name=layer+'/max_pool') # reduce by 2 layer size\n",
    "    \n",
    "    def hist_summary(variable):\n",
    "        _ = tf.histogram_summary(variable.name, variable)\n",
    "     \n",
    "    def scal_summary(variable):\n",
    "        \"Max, min, mean , sstd\"\n",
    "        tf.scalar_summary(variable.name, variable)\n",
    "        \n",
    "    # conv layer 1\n",
    "    with tf.name_scope('conv-maxpool-1'):\n",
    "        weights = weight_variable(FLAGS.W_conv1, 'conv_1') \n",
    "        biases = bias_variable([FLAGS.W_conv1[-1]], 'conv_1')\n",
    "        \n",
    "        conv_op = conv2d(images, W_conv1, 'conv_1')\n",
    "        relu_op = activation_relu(a_conv1, b_conv1, 'conv_1')\n",
    "        pool_op = max_pool_2x2(h_conv1, 'conv_1')\n",
    "        \n",
    "        scal_summary(tf.reduce_max(weights))\n",
    "        # Add summary ops to collect data\n",
    "        hist_summary(weight)\n",
    "        hist_summary(biases)\n",
    "        hist_summary(conv_op.op)\n",
    "        hist_summary(relu_op.op)\n",
    "        hist_summary(pool_op.op)\n",
    "        \n",
    "\n",
    "    # conv layer 2\n",
    "    with tf.name_scope('conv-maxpool-2'):\n",
    "        W_conv2 = weight_variable(FLAGS.W_conv2, 'conv_2') \n",
    "        b_conv2 = bias_variable([FLAGS.W_conv2[-1]], 'conv_2')\n",
    "        \n",
    "        a_conv2 = conv2d(h_pool1, W_conv2, 'conv_1')\n",
    "        h_conv2 = activation_relu(a_conv2, b_conv2, 'conv_2')\n",
    "        h_pool2 = max_pool_2x2(h_conv2, 'conv_2')\n",
    "        \n",
    "        # Add summary ops to collect data\n",
    "        _ = tf.histogram_summary('conv_2/weights', W_conv2)\n",
    "        _ = tf.histogram_summary('conv_2/biases', b_conv2)\n",
    "        _ = tf.histogram_summary('conv_2/activation', h_conv2)        \n",
    "    \n",
    "    # fc layer 1\n",
    "    with tf.name_scope('fc1'):\n",
    "        W_fc1 = weight_variable(FLAGS.W_fc1, 'W_fc1') \n",
    "        b_fc1 = bias_variable([FLAGS.W_fc1[-1]], 'b_fc1')\n",
    "        h_pool2_flat = tf.reshape(h_pool2, [-1, FLAGS.W_fc1[0]])\n",
    "        h_fc1 = tf.nn.relu(tf.matmul(h_pool2_flat, W_fc1) + b_fc1)\n",
    "        \n",
    "        # Add summary ops to collect data\n",
    "        _ = tf.histogram_summary('fc_1/W_fc1', W_fc1)\n",
    "        _ = tf.histogram_summary('fc_1/b_fc1', b_fc1)\n",
    "        _ = tf.histogram_summary('fc_1/h_fc1', h_fc1)\n",
    "        \n",
    "    # dropout layer\n",
    "    with tf.name_scope('dropout'):\n",
    "        h_fc1_drop = tf.nn.dropout(h_fc1, FLAGS.dropout)\n",
    "        \n",
    "    # Linear softmax layer\n",
    "    with tf.name_scope('softmax_linear'):\n",
    "        W_fc2 = weight_variable(FLAGS.W_fc2, 'W_fc2') \n",
    "        b_fc2 = bias_variable([FLAGS.W_fc2[-1]], 'b_fc2')\n",
    "        y_logit = tf.nn.relu(tf.matmul(h_fc1_drop, W_fc2) + b_fc2)\n",
    "        \n",
    "        # Add summary ops to collect data\n",
    "        _ = tf.histogram_summary('fc_2/W_fc2', W_fc2)\n",
    "        _ = tf.histogram_summary('fc_2/b_fc2', b_fc2)\n",
    "        _ = tf.histogram_summary('fc_2/y_logit', y_logit)     \n",
    "\n",
    "    \n",
    "    return y_logit"
   ]
  },
  {
   "cell_type": "code",
   "execution_count": 4,
   "metadata": {
    "collapsed": true
   },
   "outputs": [],
   "source": [
    "def _loss(logits, labels):\n",
    "    \"\"\"Calculates the loss.\n",
    "    \n",
    "    Args:\n",
    "    logits: Logits tensor, float - [batch_size, NUM_CLASSES].\n",
    "    labels: Labels tensor, int32 - [batch_size].\n",
    "    \n",
    "    Returns:\n",
    "    loss: Loss tensor of type float.\n",
    "    \"\"\"\n",
    "    # Convert from sparse integer labels in the range [0, NUM_CLASSES)\n",
    "    # to 1-hot dense float vectors.\n",
    "    \n",
    "    batch_size = tf.size(labels)\n",
    "    labels = tf.expand_dims(labels, 1)\n",
    "    indices = tf.expand_dims(tf.range(0, batch_size), 1)\n",
    "    concated = tf.concat(1, [indices, labels])\n",
    "    \n",
    "    onehot_labels = tf.sparse_to_dense(concated,\n",
    "                                       tf.pack([batch_size, NUM_CLASSES]),\n",
    "                                       1.0, 0.0)\n",
    "    \n",
    "    cross_entropy = tf.nn.softmax_cross_entropy_with_logits(logits,\n",
    "                                                            onehot_labels,\n",
    "                                                            name='xentropy')\n",
    "    \n",
    "  \n",
    "    loss = tf.reduce_mean(cross_entropy, name='xentropy_mean')\n",
    "    #_ = tf.scalar_summary('cross entropy', loss)\n",
    "    return loss"
   ]
  },
  {
   "cell_type": "code",
   "execution_count": 5,
   "metadata": {
    "collapsed": true
   },
   "outputs": [],
   "source": [
    "def _training(loss, learning_rate):\n",
    "    \"\"\"Sets up the training Ops.\n",
    "    \n",
    "    Args:\n",
    "    loss: Loss tensor.\n",
    "    learning_rate: The learning rate to use for gradient descent.\n",
    "    \n",
    "    Returns:\n",
    "    train_op: The Op for training.\n",
    "    \"\"\"\n",
    "    # summarizer to track the loss over time in TensorBoard.\n",
    "    tf.scalar_summary(loss.op.name, loss)\n",
    "    \n",
    "    # gradient descent optimizer\n",
    "    #optimizer = tf.train.GradientDescentOptimizer(learning_rate)\n",
    "    #optimizer = tf.train.AdamOptimizer(learning_rate)\n",
    "    optimizer = tf.train.MomentumOptimizer(learning_rate, FLAGS.momentum)\n",
    "    \n",
    "    # track global step.\n",
    "    global_step = tf.Variable(0, name='global_step', trainable=False)\n",
    "    \n",
    "    # single training step.\n",
    "    #train_op = optimizer.minimize(loss, global_step=global_step)\n",
    "    compute_gradients = optimizer.compute_gradients(loss)\n",
    "    for i, (grad, _) in enumerate(compute_gradients):\n",
    "        _ = tf.histogram_summary('gradients/grad-%s' %i, grad)\n",
    "        \n",
    "    train_op = optimizer.apply_gradients(compute_gradients)  \n",
    "    return train_op"
   ]
  },
  {
   "cell_type": "code",
   "execution_count": 6,
   "metadata": {
    "collapsed": true
   },
   "outputs": [],
   "source": [
    "def _evaluation(logits, labels):\n",
    "    \"\"\"Evaluate the quality of the predictions.\n",
    "    \n",
    "    Args:\n",
    "    logits: Logits tensor, float - [batch_size, NUM_CLASSES].\n",
    "    labels: Labels tensor, int32 - [batch_size], with values in the\n",
    "      range [0, NUM_CLASSES).\n",
    "      \n",
    "    Returns:\n",
    "    A scalar int32 tensor with the number of examples\n",
    "    that were predicted correctly.\n",
    "    \"\"\"\n",
    "    # returns a bool tensor with shape [batch_size]\n",
    "    correct = tf.nn.in_top_k(logits, labels, 1)\n",
    "    # Return the number of true entries.\n",
    "\n",
    "    accuracy = tf.reduce_mean(tf.cast(correct, tf.float32))\n",
    "    _ = tf.scalar_summary('accuracy', accuracy)\n",
    "    return tf.reduce_sum(tf.cast(correct, tf.int32))"
   ]
  },
  {
   "cell_type": "code",
   "execution_count": 7,
   "metadata": {
    "collapsed": false
   },
   "outputs": [],
   "source": [
    "def placeholder_inputs(batch_size):\n",
    "    \"\"\"Generate placeholder variables to represent the input tensors.\n",
    "    \n",
    "    Args:\n",
    "    batch_size: The batch size.\n",
    "    \n",
    "    Returns:\n",
    "    images_placeholder: Images placeholder.\n",
    "    labels_placeholder: Labels placeholder.\n",
    "    \"\"\"\n",
    "    images_placeholder = tf.placeholder(tf.float32, shape=[batch_size] + IMAGE_SHAPE, name='image-input')\n",
    "    labels_placeholder = tf.placeholder(tf.int32, shape=[batch_size], name='target-label')\n",
    "    return images_placeholder, labels_placeholder"
   ]
  },
  {
   "cell_type": "code",
   "execution_count": 8,
   "metadata": {
    "collapsed": true
   },
   "outputs": [],
   "source": [
    "def fill_feed_dict(data_set, images_pl, labels_pl):\n",
    "    \"\"\"Fills the feed_dict for training the given step.\n",
    "\n",
    "    Args:\n",
    "        data_set: The set of images and labels, from input_data.read_data_sets()\n",
    "        images_pl: The images placeholder, from placeholder_inputs().\n",
    "        labels_pl: The labels placeholder, from placeholder_inputs().\n",
    "        \n",
    "    Returns:\n",
    "        feed_dict: The feed dictionary mapping from placeholders to values.\n",
    "      \"\"\"\n",
    "    images_feed, labels_feed = data_set.next_batch(FLAGS.batch_size,\n",
    "                                                   FLAGS.fake_data)\n",
    "    \n",
    "    x_image = np.reshape(images_feed, [FLAGS.batch_size] + IMAGE_SHAPE)\n",
    "    \n",
    "    feed_dict = {\n",
    "        images_pl: x_image,\n",
    "        labels_pl: labels_feed,\n",
    "        }\n",
    "    return feed_dict"
   ]
  },
  {
   "cell_type": "code",
   "execution_count": 9,
   "metadata": {
    "collapsed": true
   },
   "outputs": [],
   "source": [
    "def do_eval(sess, eval_correct, images_placeholder, labels_placeholder, data_set):\n",
    "    \"\"\"Runs one evaluation against the full epoch of data.\n",
    "    \n",
    "    Args:\n",
    "    sess: The session in which the model has been trained.\n",
    "    eval_correct: The Tensor that returns the number of correct predictions.\n",
    "    images_placeholder: The images placeholder.\n",
    "    labels_placeholder: The labels placeholder.\n",
    "    data_set: The set of images and labels to evaluate, from\n",
    "      input_data.read_data_sets().\n",
    "    \"\"\"\n",
    "    # And run one epoch of eval.\n",
    "    true_count = 0  # Counts the number of correct predictions.\n",
    "    steps_per_epoch = data_set.num_examples // FLAGS.batch_size\n",
    "    num_examples = steps_per_epoch * FLAGS.batch_size\n",
    "    \n",
    "    for step in xrange(steps_per_epoch):\n",
    "        feed_dict = fill_feed_dict(data_set,\n",
    "                                   images_placeholder,\n",
    "                                   labels_placeholder)\n",
    "        true_count += sess.run(eval_correct, feed_dict=feed_dict)\n",
    "    precision = true_count / num_examples\n",
    "    print('  Num examples: %d  Num correct: %d  Precision @ 1: %0.04f' %\n",
    "        (num_examples, true_count, precision))"
   ]
  },
  {
   "cell_type": "code",
   "execution_count": 10,
   "metadata": {
    "collapsed": false
   },
   "outputs": [],
   "source": [
    "def run_training():\n",
    "    \"\"\"Train MNIST for a number of steps.\"\"\"\n",
    "    # Get the sets of images and labels for training, validation, and\n",
    "    # test on MNIST.\n",
    "    data_sets = input_data.read_data_sets(FLAGS.train_dir, FLAGS.fake_data)\n",
    "\n",
    "    # Tell TensorFlow that the model will be built into the default Graph.\n",
    "    with tf.Graph().as_default():\n",
    "        \n",
    "        with tf.name_scope('input-data'):\n",
    "            # Generate placeholders for the images and labels.\n",
    "            images_placeholder, labels_placeholder = placeholder_inputs(FLAGS.batch_size)\n",
    "\n",
    "        # Build a Graph that computes predictions from the inference model.\n",
    "        logits = _inference(images_placeholder)\n",
    "\n",
    "        with tf.name_scope('xentropy_loss'):\n",
    "            # Add to the Graph the Ops for loss calculation.\n",
    "            loss = _loss(logits, labels_placeholder)\n",
    "\n",
    "        with tf.name_scope('train'):\n",
    "            # Add to the Graph the Ops that calculate and apply gradients.\n",
    "            train_op = _training(loss, FLAGS.learning_rate)\n",
    "\n",
    "        with tf.name_scope('evaluation'):\n",
    "            # Add the Op to compare the logits to the labels during evaluation.\n",
    "            eval_correct = _evaluation(logits, labels_placeholder)\n",
    "\n",
    "        # Build the summary operation based on the TF collection of Summaries.\n",
    "        summary_op = tf.merge_all_summaries()\n",
    "\n",
    "        # Create a saver for writing training checkpoints.\n",
    "        saver = tf.train.Saver()\n",
    "\n",
    "        # Create a session for running Ops on the Graph.\n",
    "        sess = tf.Session()\n",
    "\n",
    "        # Run the Op to initialize the variables.\n",
    "        init = tf.initialize_all_variables()\n",
    "        sess.run(init)\n",
    "\n",
    "        # Instantiate a SummaryWriter to output summaries and the Graph.\n",
    "        summary_writer = tf.train.SummaryWriter('logs/',\n",
    "                                                graph_def=sess.graph_def)\n",
    "\n",
    "        # And then after everything is built, start the training loop.\n",
    "        for step in xrange(FLAGS.max_steps):\n",
    "            start_time = time.time()\n",
    "\n",
    "            # Fill a feed dictionary with the actual set of images and labels\n",
    "            # for this particular training step.\n",
    "            feed_dict = fill_feed_dict(data_sets.train,\n",
    "                                       images_placeholder,\n",
    "                                       labels_placeholder)\n",
    "\n",
    "            # Run one step of the model.  The return values are the activations\n",
    "            # from the `train_op` (which is discarded) and the `loss` Op.  To\n",
    "            # inspect the values of your Ops or variables, you may include them\n",
    "            # in the list passed to sess.run() and the value tensors will be\n",
    "            # returned in the tuple from the call.\n",
    "            _, loss_value = sess.run([train_op, loss],\n",
    "                                     feed_dict=feed_dict)\n",
    "\n",
    "            duration = time.time() - start_time\n",
    "\n",
    "            # Write the summaries and print an overview fairly often.\n",
    "            if step % 100 == 0:\n",
    "                # Print status to stdout.\n",
    "                print('Step %d: loss = %.2f (%.3f sec)' % (step, loss_value, duration))\n",
    "                # Update the events file.\n",
    "                summary_str = sess.run(summary_op, feed_dict=feed_dict)\n",
    "                summary_writer.add_summary(summary_str, step)\n",
    "\n",
    "            # Save a checkpoint and evaluate the model periodically.\n",
    "            if (step + 1) % 1000 == 0 or (step + 1) == FLAGS.max_steps:\n",
    "                saver.save(sess, FLAGS.train_dir, global_step=step)\n",
    "                # Evaluate against the training set.\n",
    "                print('Training Data Eval:')\n",
    "                do_eval(sess,\n",
    "                        eval_correct,\n",
    "                        images_placeholder,\n",
    "                        labels_placeholder,\n",
    "                        data_sets.train)\n",
    "                # Evaluate against the validation set.\n",
    "                print('Validation Data Eval:')\n",
    "                do_eval(sess,\n",
    "                        eval_correct,\n",
    "                        images_placeholder,\n",
    "                        labels_placeholder,\n",
    "                        data_sets.validation)\n",
    "                # Evaluate against the test set.\n",
    "                print('Test Data Eval:')\n",
    "                do_eval(sess,\n",
    "                        eval_correct,\n",
    "                        images_placeholder,\n",
    "                        labels_placeholder,\n",
    "                        data_sets.test)"
   ]
  },
  {
   "cell_type": "code",
   "execution_count": 11,
   "metadata": {
    "collapsed": false
   },
   "outputs": [],
   "source": [
    "# Basic model parameters as external flags.\n",
    "flags = tf.app.flags\n",
    "FLAGS = flags.FLAGS\n",
    "flags.DEFINE_float('learning_rate', 0.001, 'Initial learning rate.')\n",
    "flags.DEFINE_float('momentum', 0.8, 'momentum hyperparameters')\n",
    "flags.DEFINE_integer('max_steps', 200, 'Number of steps to run trainer.')\n",
    "flags.DEFINE_integer('batch_size', 128, 'Batch size.  '\n",
    "                     'Must divide evenly into the dataset sizes.')\n",
    "flags.DEFINE_string('train_dir', 'data', 'Directory to put the training data.')\n",
    "flags.DEFINE_boolean('fake_data', False, 'If true, uses fake data '\n",
    "                     'for unit testing.')\n",
    "flags.DEFINE_string('log_dir', 'logs', 'Directory to put the log data.')\n",
    "flags.DEFINE_float('dropout', 0.5, 'dropout ratio')\n",
    "flags.DEFINE_integer('W_conv1', [5,5,1,32], 'W shape of 1st conv layer')\n",
    "flags.DEFINE_integer('W_conv2', [5,5,32,64], 'W shape of 2st conv layer')\n",
    "flags.DEFINE_integer('W_fc1', [7*7*64, 1024], 'W shape of 1st fc layer') # 28/2/2 = 7 after 2 pooling layers\n",
    "flags.DEFINE_integer('W_fc2', [1024, 10], 'W shape of 2st fc layer') # 10 output classes"
   ]
  },
  {
   "cell_type": "code",
   "execution_count": null,
   "metadata": {
    "collapsed": false
   },
   "outputs": [
    {
     "name": "stdout",
     "output_type": "stream",
     "text": [
      "Extracting data/train-images-idx3-ubyte.gz\n",
      "Extracting data/train-labels-idx1-ubyte.gz\n",
      "Extracting data/t10k-images-idx3-ubyte.gz\n",
      "Extracting data/t10k-labels-idx1-ubyte.gz\n",
      "Step 0: loss = 8.07 (0.555 sec)\n"
     ]
    }
   ],
   "source": [
    "# Momentum updater => momentum: 0.8, dropout: 0.5, lr: 0.001, batch: 128\n",
    "run_training()"
   ]
  },
  {
   "cell_type": "code",
   "execution_count": null,
   "metadata": {
    "collapsed": false
   },
   "outputs": [],
   "source": [
    "# Gradient Descent => dropout: 0.8, lr: 0.01, batch: 100\n",
    "run_training() "
   ]
  },
  {
   "cell_type": "markdown",
   "metadata": {
    "collapsed": true
   },
   "source": [
    "## Manual Implementation of Updaters"
   ]
  },
  {
   "cell_type": "code",
   "execution_count": 8,
   "metadata": {
    "collapsed": true
   },
   "outputs": [],
   "source": [
    "def Momentum(loss, learning_rate, mu):\n",
    "    dy = tf.gradients(loss, W)\n",
    "    grad = dy[0]\n",
    "\n",
    "    vW_op = tf.assign(vW, (mu * vW) - (learning_rate * grad))\n",
    "    train_op = tf.assign_add(W, vW)\n",
    "    return train_op, vW_op"
   ]
  },
  {
   "cell_type": "code",
   "execution_count": 11,
   "metadata": {
    "collapsed": true
   },
   "outputs": [],
   "source": [
    "def Nesterov(loss, learning_rate, mu):\n",
    "    dy = tf.gradients(loss, W)\n",
    "    grad = dy[0]\n",
    "    \n",
    "    vW_prev = vW\n",
    "    vW_op = tf.assign(vW, (mu * vW) - (learning_rate * grad))\n",
    "    train_op = tf.assign_add(W, -mu * vW_prev + (1+mu) * vW)\n",
    "    return train_op, vW_op"
   ]
  },
  {
   "cell_type": "code",
   "execution_count": 25,
   "metadata": {
    "collapsed": true
   },
   "outputs": [],
   "source": [
    "def Adadelta(loss, decay):\n",
    "    dy = tf.gradients(loss, W)\n",
    "    grad = dy[0]\n",
    "    \n",
    "    vW_op = tf.assign(vW, decay * vW + (1-decay)* tf.pow(grad,2))\n",
    "    W_update = - tf.sqrt(mW + 1e-8) * grad / tf.sqrt(vW + 1e-8)\n",
    "    \n",
    "    mW_op = tf.assign(mW, decay * mW + (1-decay)* tf.pow(W_update,2))\n",
    "    \n",
    "    train_op = tf.assign_add(W, W_update)\n",
    "    return train_op, vW_op, mW_op"
   ]
  },
  {
   "cell_type": "code",
   "execution_count": 31,
   "metadata": {
    "collapsed": true
   },
   "outputs": [],
   "source": [
    "def Adam(loss, learning_rate, beta1, beta2):\n",
    "    dy = tf.gradients(loss, W)\n",
    "    grad = dy[0]\n",
    "    \n",
    "    mW_op = tf.assign(mW, beta1*mW + (1-beta1) * grad)\n",
    "    vW_op = tf.assign(vW, beta2*vW + (1-beta2) * tf.pow(grad,2))\n",
    "    \n",
    "    mW_prime = mW / (1-beta1)\n",
    "    vW_prime = vW / (1-beta2)\n",
    "    \n",
    "    train_op = tf.assign_add(W, - learning_rate * mW_prime / tf.sqrt(vW_prime + 1e-8))\n",
    "    return train_op, vW_op, mW_op             "
   ]
  },
  {
   "cell_type": "markdown",
   "metadata": {},
   "source": [
    "## Test Example"
   ]
  },
  {
   "cell_type": "code",
   "execution_count": 37,
   "metadata": {
    "collapsed": false
   },
   "outputs": [
    {
     "name": "stdout",
     "output_type": "stream",
     "text": [
      "0 :  [ 0.00091188  0.00182376  0.00273565]\n",
      "Cost:  -0.000911882\n",
      "\n",
      "20 :  [ 0.02182399  0.04364799  0.06547198]\n",
      "Cost:  -0.0012137\n",
      "\n",
      "40 :  [ 0.05026133  0.10052267  0.15078403]\n",
      "Cost:  -0.00177059\n",
      "\n",
      "60 :  [ 0.09390396  0.18780796  0.281712  ]\n",
      "Cost:  -0.00308056\n",
      "\n",
      "80 :  [ 0.1830676   0.36613521  0.54920298]\n",
      "Cost:  -0.00862341\n",
      "\n",
      "100 :  [ 0.99999368  1.99998736  2.99998093]\n",
      "Cost:  -0.999345\n",
      "\n",
      "120 :  [ 1.  2.  3.]\n",
      "Cost:  -1.0\n",
      "\n",
      "140 :  [ 1.  2.  3.]\n",
      "Cost:  -1.0\n",
      "\n",
      "160 :  [ 1.  2.  3.]\n",
      "Cost:  -1.0\n",
      "\n",
      "180 :  [ 1.  2.  3.]\n",
      "Cost:  -1.0\n",
      "\n"
     ]
    }
   ],
   "source": [
    "# Construct Graph input nodes\n",
    "vector = np.array([0.0, 0.0, 0.0])\n",
    "target = np.array([1.0, 2.0, 3.0])\n",
    "learning_rate = 0.5\n",
    "mu = 0.5\n",
    "beta1 = 0.2\n",
    "beta2 = 0.2\n",
    "#optimizer = \"Momentum\"\n",
    "optimizer = \"Adadelta\"\n",
    "#optimizer = \"Adam\"\n",
    "\n",
    "\n",
    "init_vect = tf.constant(vector, tf.float32, vector.shape)\n",
    "W = tf.Variable(init_vect, name='W')\n",
    "vW = tf.Variable(init_vect, name='vW')\n",
    "mW = tf.Variable(init_vect, name='mW')\n",
    "\n",
    "y = tf.placeholder(tf.float32, shape=target.shape, name='target')\n",
    "\n",
    "# Construct Graph operations\n",
    "err = W - y\n",
    "cost = - tf.exp((-0.5) * tf.reduce_sum(tf.pow(err,2)))\n",
    "\n",
    "if optimizer == \"Adadelta\":\n",
    "    train_op, vW_op, mW_op = Adadelta(cost, mu)\n",
    "elif optimizer == \"Adam\":\n",
    "    train_op, vW_op, mW_op = Adam(cost, learning_rate, beta1, beta2)\n",
    "else:\n",
    "    train_op, vW_op, = Momentum(cost, learning_rate, mu)\n",
    "\n",
    "# Start a session\n",
    "sess = tf.Session()\n",
    "\n",
    "# Run the Op to initialize the variables.\n",
    "init = tf.initialize_all_variables()\n",
    "sess.run(init)\n",
    "\n",
    "for i in xrange(200):\n",
    "    \n",
    "    if optimizer == \"Adadelta\" or optimizer == \"Adam\":\n",
    "        _,_,_,loss_value = sess.run([train_op, vW_op, mW_op, cost], feed_dict={y: target})\n",
    "    else:\n",
    "         _,_,loss_value = sess.run([train_op, vW_op, cost], feed_dict={y: target})\n",
    "\n",
    "    if i % 20 == 0:\n",
    "        print (i, \": \", W.eval(session=sess))\n",
    "        print (\"Cost: \", loss_value)\n",
    "        print()"
   ]
  },
  {
   "cell_type": "code",
   "execution_count": 21,
   "metadata": {
    "collapsed": false
   },
   "outputs": [
    {
     "name": "stdout",
     "output_type": "stream",
     "text": [
      "0\n",
      "1\n",
      "2\n",
      "1\n",
      "2\n",
      "3\n",
      "2\n",
      "3\n",
      "4\n"
     ]
    }
   ],
   "source": [
    "for i, (a,b) in enumerate([(1,2),(2,3), (3,4)]):\n",
    "    print(i)\n",
    "    print(a)\n",
    "    print (b)"
   ]
  },
  {
   "cell_type": "code",
   "execution_count": null,
   "metadata": {
    "collapsed": true
   },
   "outputs": [],
   "source": []
  }
 ],
 "metadata": {
  "kernelspec": {
   "display_name": "Python 2",
   "language": "python",
   "name": "python2"
  },
  "language_info": {
   "codemirror_mode": {
    "name": "ipython",
    "version": 2
   },
   "file_extension": ".py",
   "mimetype": "text/x-python",
   "name": "python",
   "nbconvert_exporter": "python",
   "pygments_lexer": "ipython2",
   "version": "2.7.11"
  }
 },
 "nbformat": 4,
 "nbformat_minor": 0
}
